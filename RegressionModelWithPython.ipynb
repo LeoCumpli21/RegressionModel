{
  "nbformat": 4,
  "nbformat_minor": 0,
  "metadata": {
    "colab": {
      "name": "A01026491_RegresionLineal.ipynb",
      "provenance": []
    },
    "kernelspec": {
      "name": "python3",
      "display_name": "Python 3"
    },
    "language_info": {
      "name": "python"
    }
  },
  "cells": [
    {
      "cell_type": "markdown",
      "metadata": {
        "id": "NPKq6UGRcfEN"
      },
      "source": [
        "## Importamos las librerías necesarias"
      ]
    },
    {
      "cell_type": "code",
      "metadata": {
        "id": "H_ND_O3ubIDK"
      },
      "source": [
        "import pandas as pd # gestionar dataframes -> tablas \n",
        "import numpy as np # gestionar arreglos, que son matrices mutlidimensionales\n",
        "import sklearn as skl # Funciones muy comunes en ciencia de datos\n",
        "import matplotlib.pyplot as plt # Grafica"
      ],
      "execution_count": null,
      "outputs": []
    },
    {
      "cell_type": "code",
      "metadata": {
        "colab": {
          "base_uri": "https://localhost:8080/"
        },
        "id": "tMITC0N0dFNX",
        "outputId": "a668d6c5-75db-40f8-9f4b-d7db99b8ad57"
      },
      "source": [
        "from google.colab import drive\n",
        "drive.mount(\"/content/drive\")"
      ],
      "execution_count": null,
      "outputs": [
        {
          "output_type": "stream",
          "name": "stdout",
          "text": [
            "Mounted at /content/drive\n"
          ]
        }
      ]
    },
    {
      "cell_type": "markdown",
      "metadata": {
        "id": "u-7US5dQElyo"
      },
      "source": [
        "## Preparamos la base de datos"
      ]
    },
    {
      "cell_type": "markdown",
      "metadata": {
        "id": "FJnb3PQcExpf"
      },
      "source": [
        "### Importamos los datos desde Drive, y los convertimos en df"
      ]
    },
    {
      "cell_type": "code",
      "metadata": {
        "id": "SrMeiPPEdHpy"
      },
      "source": [
        "path1 = \"/content/drive/My Drive/registro_de_alimentos.csv\"\n",
        "path2 = \"/content/drive/My Drive/Food Nutrient Database.csv\""
      ],
      "execution_count": null,
      "outputs": []
    },
    {
      "cell_type": "code",
      "metadata": {
        "id": "AquGPEXEdpYY"
      },
      "source": [
        "df1 = pd.read_csv(path1, index_col=0)\n",
        "df2 = pd.read_csv(path2, index_col=0)"
      ],
      "execution_count": null,
      "outputs": []
    },
    {
      "cell_type": "code",
      "metadata": {
        "colab": {
          "base_uri": "https://localhost:8080/",
          "height": 255
        },
        "id": "HiwYqjbdeMTw",
        "outputId": "56d4c511-5919-49f5-d7ec-c12a72660728"
      },
      "source": [
        "print(df1.shape)\n",
        "df1.head()"
      ],
      "execution_count": null,
      "outputs": [
        {
          "output_type": "stream",
          "name": "stdout",
          "text": [
            "(478, 9)\n"
          ]
        },
        {
          "output_type": "execute_result",
          "data": {
            "text/html": [
              "<div>\n",
              "<style scoped>\n",
              "    .dataframe tbody tr th:only-of-type {\n",
              "        vertical-align: middle;\n",
              "    }\n",
              "\n",
              "    .dataframe tbody tr th {\n",
              "        vertical-align: top;\n",
              "    }\n",
              "\n",
              "    .dataframe thead th {\n",
              "        text-align: right;\n",
              "    }\n",
              "</style>\n",
              "<table border=\"1\" class=\"dataframe\">\n",
              "  <thead>\n",
              "    <tr style=\"text-align: right;\">\n",
              "      <th></th>\n",
              "      <th>Fecha</th>\n",
              "      <th>Hora</th>\n",
              "      <th>Nombre</th>\n",
              "      <th>Calorias (cal)</th>\n",
              "      <th>Carbohidratos (g)</th>\n",
              "      <th>Lípidos (g)</th>\n",
              "      <th>Proteína (g)</th>\n",
              "      <th>Sodio (mg)</th>\n",
              "      <th>Fuente</th>\n",
              "    </tr>\n",
              "    <tr>\n",
              "      <th>ID</th>\n",
              "      <th></th>\n",
              "      <th></th>\n",
              "      <th></th>\n",
              "      <th></th>\n",
              "      <th></th>\n",
              "      <th></th>\n",
              "      <th></th>\n",
              "      <th></th>\n",
              "      <th></th>\n",
              "    </tr>\n",
              "  </thead>\n",
              "  <tbody>\n",
              "    <tr>\n",
              "      <th>1</th>\n",
              "      <td>lunes, 16 de agosto de 2021</td>\n",
              "      <td>06:50</td>\n",
              "      <td>2 huevo frito</td>\n",
              "      <td>156</td>\n",
              "      <td>0.74</td>\n",
              "      <td>11.76</td>\n",
              "      <td>10.84</td>\n",
              "      <td>414.0</td>\n",
              "      <td>https://www.fatsecret.com.mx/calor%C3%ADas-nut...</td>\n",
              "    </tr>\n",
              "    <tr>\n",
              "      <th>2</th>\n",
              "      <td>lunes, 16 de agosto de 2021</td>\n",
              "      <td>06:50</td>\n",
              "      <td>Plátano</td>\n",
              "      <td>105</td>\n",
              "      <td>27.00</td>\n",
              "      <td>0.40</td>\n",
              "      <td>1.30</td>\n",
              "      <td>0.0</td>\n",
              "      <td>MyFitnessPal</td>\n",
              "    </tr>\n",
              "    <tr>\n",
              "      <th>3</th>\n",
              "      <td>lunes, 16 de agosto de 2021</td>\n",
              "      <td>08:30</td>\n",
              "      <td>Jugo verde</td>\n",
              "      <td>80</td>\n",
              "      <td>13.60</td>\n",
              "      <td>2.00</td>\n",
              "      <td>1.90</td>\n",
              "      <td>25.5</td>\n",
              "      <td>MyFitnessPal</td>\n",
              "    </tr>\n",
              "    <tr>\n",
              "      <th>4</th>\n",
              "      <td>lunes, 16 de agosto de 2021</td>\n",
              "      <td>09:30</td>\n",
              "      <td>Ham salad sandwich</td>\n",
              "      <td>300</td>\n",
              "      <td>41.90</td>\n",
              "      <td>6.70</td>\n",
              "      <td>16.10</td>\n",
              "      <td>0.0</td>\n",
              "      <td>MyFitnessPal</td>\n",
              "    </tr>\n",
              "    <tr>\n",
              "      <th>5</th>\n",
              "      <td>lunes, 16 de agosto de 2021</td>\n",
              "      <td>15:30</td>\n",
              "      <td>Brocheta 200g</td>\n",
              "      <td>342</td>\n",
              "      <td>2.00</td>\n",
              "      <td>18.60</td>\n",
              "      <td>41.60</td>\n",
              "      <td>0.0</td>\n",
              "      <td>MyFitnessPal</td>\n",
              "    </tr>\n",
              "  </tbody>\n",
              "</table>\n",
              "</div>"
            ],
            "text/plain": [
              "                          Fecha  ...                                             Fuente\n",
              "ID                               ...                                                   \n",
              "1   lunes, 16 de agosto de 2021  ...  https://www.fatsecret.com.mx/calor%C3%ADas-nut...\n",
              "2   lunes, 16 de agosto de 2021  ...                                       MyFitnessPal\n",
              "3   lunes, 16 de agosto de 2021  ...                                       MyFitnessPal\n",
              "4   lunes, 16 de agosto de 2021  ...                                       MyFitnessPal\n",
              "5   lunes, 16 de agosto de 2021  ...                                       MyFitnessPal\n",
              "\n",
              "[5 rows x 9 columns]"
            ]
          },
          "metadata": {},
          "execution_count": 5
        }
      ]
    },
    {
      "cell_type": "code",
      "metadata": {
        "colab": {
          "base_uri": "https://localhost:8080/",
          "height": 518
        },
        "id": "yEgHtN2NRMkH",
        "outputId": "201cce2e-cbda-4f39-d642-4a5b29ac0048"
      },
      "source": [
        "print(df2.shape)\n",
        "df2.head()"
      ],
      "execution_count": null,
      "outputs": [
        {
          "output_type": "stream",
          "name": "stdout",
          "text": [
            "(5740, 56)\n"
          ]
        },
        {
          "output_type": "execute_result",
          "data": {
            "text/html": [
              "<div>\n",
              "<style scoped>\n",
              "    .dataframe tbody tr th:only-of-type {\n",
              "        vertical-align: middle;\n",
              "    }\n",
              "\n",
              "    .dataframe tbody tr th {\n",
              "        vertical-align: top;\n",
              "    }\n",
              "\n",
              "    .dataframe thead th {\n",
              "        text-align: right;\n",
              "    }\n",
              "</style>\n",
              "<table border=\"1\" class=\"dataframe\">\n",
              "  <thead>\n",
              "    <tr style=\"text-align: right;\">\n",
              "      <th></th>\n",
              "      <th>Survey ID</th>\n",
              "      <th>Food Name</th>\n",
              "      <th>Survey flag</th>\n",
              "      <th>Energy, with dietary fibre (kJ)</th>\n",
              "      <th>Energy, without dietary fibre (kJ)</th>\n",
              "      <th>Moisture (g)</th>\n",
              "      <th>Protein (g)</th>\n",
              "      <th>Total fat (g)</th>\n",
              "      <th>Available carbohydrates, with sugar alcohols (g)</th>\n",
              "      <th>Available carbohydrates, without sugar alcohol (g)</th>\n",
              "      <th>Starch (g)</th>\n",
              "      <th>Total sugars (g)</th>\n",
              "      <th>Added sugars (g)</th>\n",
              "      <th>Free sugars (g)</th>\n",
              "      <th>Dietary fibre (g)</th>\n",
              "      <th>Alcohol (g)</th>\n",
              "      <th>Ash (g)</th>\n",
              "      <th>Preformed vitamin A (retinol) (µg)</th>\n",
              "      <th>Beta-carotene (µg)</th>\n",
              "      <th>Provitamin A (b-carotene equivalents) (µg)</th>\n",
              "      <th>Vitamin A retinol equivalents (µg)</th>\n",
              "      <th>Thiamin (B1) (mg)</th>\n",
              "      <th>Riboflavin (B2) (mg)</th>\n",
              "      <th>Niacin (B3) (mg)</th>\n",
              "      <th>Niacin derived equivalents (mg)</th>\n",
              "      <th>Folate, natural  (µg)</th>\n",
              "      <th>Folic acid  (µg)</th>\n",
              "      <th>Total Folates  (µg)</th>\n",
              "      <th>Dietary folate equivalents  (µg)</th>\n",
              "      <th>Vitamin B6 (mg)</th>\n",
              "      <th>Vitamin B12  (µg)</th>\n",
              "      <th>Vitamin C (mg)</th>\n",
              "      <th>Alpha-tocopherol (mg)</th>\n",
              "      <th>Vitamin E (mg)</th>\n",
              "      <th>Calcium (Ca) (mg)</th>\n",
              "      <th>Iodine (I) (µg)</th>\n",
              "      <th>Iron (Fe) (mg)</th>\n",
              "      <th>Magnesium (Mg) (mg)</th>\n",
              "      <th>Phosphorus (P) (mg)</th>\n",
              "      <th>Potassium (K) (mg)</th>\n",
              "      <th>Selenium (Se) (µg)</th>\n",
              "      <th>Sodium (Na) (mg)</th>\n",
              "      <th>Zinc (Zn) (mg)</th>\n",
              "      <th>Caffeine (mg)</th>\n",
              "      <th>Cholesterol (mg)</th>\n",
              "      <th>Tryptophan (mg)</th>\n",
              "      <th>Total saturated fat (g)</th>\n",
              "      <th>Total monounsaturated fat (g)</th>\n",
              "      <th>Total polyunsaturated fat (g)</th>\n",
              "      <th>Linoleic acid (g)</th>\n",
              "      <th>Alpha-linolenic acid (g)</th>\n",
              "      <th>C20:5w3 Eicosapentaenoic (mg)</th>\n",
              "      <th>C22:5w3 Docosapentaenoic (mg)</th>\n",
              "      <th>C22:6w3 Docosahexaenoic (mg)</th>\n",
              "      <th>Total long chain omega 3 fatty acids (mg)</th>\n",
              "      <th>Total trans fatty acids (mg)</th>\n",
              "    </tr>\n",
              "    <tr>\n",
              "      <th>Food ID</th>\n",
              "      <th></th>\n",
              "      <th></th>\n",
              "      <th></th>\n",
              "      <th></th>\n",
              "      <th></th>\n",
              "      <th></th>\n",
              "      <th></th>\n",
              "      <th></th>\n",
              "      <th></th>\n",
              "      <th></th>\n",
              "      <th></th>\n",
              "      <th></th>\n",
              "      <th></th>\n",
              "      <th></th>\n",
              "      <th></th>\n",
              "      <th></th>\n",
              "      <th></th>\n",
              "      <th></th>\n",
              "      <th></th>\n",
              "      <th></th>\n",
              "      <th></th>\n",
              "      <th></th>\n",
              "      <th></th>\n",
              "      <th></th>\n",
              "      <th></th>\n",
              "      <th></th>\n",
              "      <th></th>\n",
              "      <th></th>\n",
              "      <th></th>\n",
              "      <th></th>\n",
              "      <th></th>\n",
              "      <th></th>\n",
              "      <th></th>\n",
              "      <th></th>\n",
              "      <th></th>\n",
              "      <th></th>\n",
              "      <th></th>\n",
              "      <th></th>\n",
              "      <th></th>\n",
              "      <th></th>\n",
              "      <th></th>\n",
              "      <th></th>\n",
              "      <th></th>\n",
              "      <th></th>\n",
              "      <th></th>\n",
              "      <th></th>\n",
              "      <th></th>\n",
              "      <th></th>\n",
              "      <th></th>\n",
              "      <th></th>\n",
              "      <th></th>\n",
              "      <th></th>\n",
              "      <th></th>\n",
              "      <th></th>\n",
              "      <th></th>\n",
              "      <th></th>\n",
              "    </tr>\n",
              "  </thead>\n",
              "  <tbody>\n",
              "    <tr>\n",
              "      <th>10F40019</th>\n",
              "      <td>31103001</td>\n",
              "      <td>Beef, extract, bonox</td>\n",
              "      <td>NaN</td>\n",
              "      <td>401</td>\n",
              "      <td>401</td>\n",
              "      <td>56.6</td>\n",
              "      <td>16.6</td>\n",
              "      <td>0.2</td>\n",
              "      <td>6.5</td>\n",
              "      <td>6.5</td>\n",
              "      <td>6.5</td>\n",
              "      <td>0.0</td>\n",
              "      <td>0.0</td>\n",
              "      <td>0.0</td>\n",
              "      <td>0.0</td>\n",
              "      <td>0.0</td>\n",
              "      <td>19.8</td>\n",
              "      <td>0</td>\n",
              "      <td>0</td>\n",
              "      <td>0</td>\n",
              "      <td>0</td>\n",
              "      <td>0.360</td>\n",
              "      <td>0.270</td>\n",
              "      <td>5.40</td>\n",
              "      <td>7.71</td>\n",
              "      <td>6</td>\n",
              "      <td>0</td>\n",
              "      <td>6</td>\n",
              "      <td>6</td>\n",
              "      <td>0.23</td>\n",
              "      <td>8.0</td>\n",
              "      <td>0</td>\n",
              "      <td>0.6</td>\n",
              "      <td>0.60</td>\n",
              "      <td>110</td>\n",
              "      <td>9.1</td>\n",
              "      <td>2.00</td>\n",
              "      <td>60</td>\n",
              "      <td>360</td>\n",
              "      <td>690</td>\n",
              "      <td>4.0</td>\n",
              "      <td>6660</td>\n",
              "      <td>1.50</td>\n",
              "      <td>0</td>\n",
              "      <td>0</td>\n",
              "      <td>136</td>\n",
              "      <td>0.00</td>\n",
              "      <td>0.00</td>\n",
              "      <td>0.00</td>\n",
              "      <td>0.00</td>\n",
              "      <td>0.00</td>\n",
              "      <td>0.0</td>\n",
              "      <td>0.0</td>\n",
              "      <td>0.0</td>\n",
              "      <td>0.0</td>\n",
              "      <td>0.0</td>\n",
              "    </tr>\n",
              "    <tr>\n",
              "      <th>13A12001</th>\n",
              "      <td>31302001</td>\n",
              "      <td>Basil, dried</td>\n",
              "      <td>NaN</td>\n",
              "      <td>1079</td>\n",
              "      <td>774</td>\n",
              "      <td>10.0</td>\n",
              "      <td>18.2</td>\n",
              "      <td>5.5</td>\n",
              "      <td>15.5</td>\n",
              "      <td>15.5</td>\n",
              "      <td>15.5</td>\n",
              "      <td>0.0</td>\n",
              "      <td>0.0</td>\n",
              "      <td>0.0</td>\n",
              "      <td>38.2</td>\n",
              "      <td>0.0</td>\n",
              "      <td>15.5</td>\n",
              "      <td>0</td>\n",
              "      <td>27135</td>\n",
              "      <td>27334</td>\n",
              "      <td>4556</td>\n",
              "      <td>0.327</td>\n",
              "      <td>1.900</td>\n",
              "      <td>7.79</td>\n",
              "      <td>11.62</td>\n",
              "      <td>436</td>\n",
              "      <td>0</td>\n",
              "      <td>436</td>\n",
              "      <td>436</td>\n",
              "      <td>1.34</td>\n",
              "      <td>0.0</td>\n",
              "      <td>337</td>\n",
              "      <td>6.9</td>\n",
              "      <td>6.91</td>\n",
              "      <td>2091</td>\n",
              "      <td>57.0</td>\n",
              "      <td>16.36</td>\n",
              "      <td>273</td>\n",
              "      <td>291</td>\n",
              "      <td>3818</td>\n",
              "      <td>2.7</td>\n",
              "      <td>118</td>\n",
              "      <td>17.27</td>\n",
              "      <td>0</td>\n",
              "      <td>0</td>\n",
              "      <td>225</td>\n",
              "      <td>2.36</td>\n",
              "      <td>1.40</td>\n",
              "      <td>0.61</td>\n",
              "      <td>0.26</td>\n",
              "      <td>0.34</td>\n",
              "      <td>0.0</td>\n",
              "      <td>0.0</td>\n",
              "      <td>0.0</td>\n",
              "      <td>0.0</td>\n",
              "      <td>0.0</td>\n",
              "    </tr>\n",
              "    <tr>\n",
              "      <th>10E10113</th>\n",
              "      <td>31302002</td>\n",
              "      <td>Cardamom, seeds, ground</td>\n",
              "      <td>NaN</td>\n",
              "      <td>1333</td>\n",
              "      <td>1109</td>\n",
              "      <td>8.3</td>\n",
              "      <td>10.8</td>\n",
              "      <td>6.7</td>\n",
              "      <td>40.5</td>\n",
              "      <td>40.5</td>\n",
              "      <td>31.0</td>\n",
              "      <td>9.5</td>\n",
              "      <td>0.0</td>\n",
              "      <td>0.0</td>\n",
              "      <td>28.0</td>\n",
              "      <td>0.0</td>\n",
              "      <td>5.8</td>\n",
              "      <td>0</td>\n",
              "      <td>0</td>\n",
              "      <td>0</td>\n",
              "      <td>0</td>\n",
              "      <td>0.198</td>\n",
              "      <td>0.182</td>\n",
              "      <td>1.10</td>\n",
              "      <td>3.74</td>\n",
              "      <td>0</td>\n",
              "      <td>0</td>\n",
              "      <td>0</td>\n",
              "      <td>0</td>\n",
              "      <td>0.23</td>\n",
              "      <td>0.0</td>\n",
              "      <td>21</td>\n",
              "      <td>0.5</td>\n",
              "      <td>0.50</td>\n",
              "      <td>383</td>\n",
              "      <td>0.5</td>\n",
              "      <td>13.97</td>\n",
              "      <td>229</td>\n",
              "      <td>178</td>\n",
              "      <td>1119</td>\n",
              "      <td>0.5</td>\n",
              "      <td>18</td>\n",
              "      <td>7.47</td>\n",
              "      <td>0</td>\n",
              "      <td>0</td>\n",
              "      <td>155</td>\n",
              "      <td>2.20</td>\n",
              "      <td>2.81</td>\n",
              "      <td>1.39</td>\n",
              "      <td>1.00</td>\n",
              "      <td>0.39</td>\n",
              "      <td>0.0</td>\n",
              "      <td>0.0</td>\n",
              "      <td>0.0</td>\n",
              "      <td>0.0</td>\n",
              "      <td>0.0</td>\n",
              "    </tr>\n",
              "    <tr>\n",
              "      <th>10E10098</th>\n",
              "      <td>31302003</td>\n",
              "      <td>Chilli (chili) powder</td>\n",
              "      <td>NaN</td>\n",
              "      <td>1441</td>\n",
              "      <td>1167</td>\n",
              "      <td>7.8</td>\n",
              "      <td>12.3</td>\n",
              "      <td>16.8</td>\n",
              "      <td>20.5</td>\n",
              "      <td>20.5</td>\n",
              "      <td>10.4</td>\n",
              "      <td>10.1</td>\n",
              "      <td>0.0</td>\n",
              "      <td>0.0</td>\n",
              "      <td>34.2</td>\n",
              "      <td>0.0</td>\n",
              "      <td>11.8</td>\n",
              "      <td>0</td>\n",
              "      <td>15000</td>\n",
              "      <td>17790</td>\n",
              "      <td>2965</td>\n",
              "      <td>0.350</td>\n",
              "      <td>0.790</td>\n",
              "      <td>7.90</td>\n",
              "      <td>8.98</td>\n",
              "      <td>9</td>\n",
              "      <td>0</td>\n",
              "      <td>9</td>\n",
              "      <td>9</td>\n",
              "      <td>2.09</td>\n",
              "      <td>0.0</td>\n",
              "      <td>0</td>\n",
              "      <td>38.1</td>\n",
              "      <td>38.14</td>\n",
              "      <td>278</td>\n",
              "      <td>0.5</td>\n",
              "      <td>14.30</td>\n",
              "      <td>170</td>\n",
              "      <td>303</td>\n",
              "      <td>1920</td>\n",
              "      <td>20.4</td>\n",
              "      <td>1010</td>\n",
              "      <td>2.70</td>\n",
              "      <td>0</td>\n",
              "      <td>0</td>\n",
              "      <td>64</td>\n",
              "      <td>2.41</td>\n",
              "      <td>3.15</td>\n",
              "      <td>7.85</td>\n",
              "      <td>7.32</td>\n",
              "      <td>0.52</td>\n",
              "      <td>0.0</td>\n",
              "      <td>0.0</td>\n",
              "      <td>0.0</td>\n",
              "      <td>0.0</td>\n",
              "      <td>0.0</td>\n",
              "    </tr>\n",
              "    <tr>\n",
              "      <th>10E10107</th>\n",
              "      <td>31302004</td>\n",
              "      <td>Chilli (chili), dried, ground</td>\n",
              "      <td>NaN</td>\n",
              "      <td>1573</td>\n",
              "      <td>1355</td>\n",
              "      <td>6.6</td>\n",
              "      <td>14.1</td>\n",
              "      <td>16.8</td>\n",
              "      <td>29.6</td>\n",
              "      <td>29.6</td>\n",
              "      <td>19.2</td>\n",
              "      <td>10.4</td>\n",
              "      <td>0.0</td>\n",
              "      <td>0.0</td>\n",
              "      <td>27.2</td>\n",
              "      <td>0.0</td>\n",
              "      <td>10.0</td>\n",
              "      <td>0</td>\n",
              "      <td>15000</td>\n",
              "      <td>15000</td>\n",
              "      <td>2500</td>\n",
              "      <td>0.350</td>\n",
              "      <td>0.790</td>\n",
              "      <td>7.90</td>\n",
              "      <td>9.15</td>\n",
              "      <td>9</td>\n",
              "      <td>0</td>\n",
              "      <td>9</td>\n",
              "      <td>9</td>\n",
              "      <td>2.09</td>\n",
              "      <td>0.0</td>\n",
              "      <td>0</td>\n",
              "      <td>38.1</td>\n",
              "      <td>38.14</td>\n",
              "      <td>278</td>\n",
              "      <td>0.5</td>\n",
              "      <td>14.30</td>\n",
              "      <td>170</td>\n",
              "      <td>303</td>\n",
              "      <td>1920</td>\n",
              "      <td>20.4</td>\n",
              "      <td>20</td>\n",
              "      <td>2.70</td>\n",
              "      <td>0</td>\n",
              "      <td>0</td>\n",
              "      <td>73</td>\n",
              "      <td>2.42</td>\n",
              "      <td>3.16</td>\n",
              "      <td>7.89</td>\n",
              "      <td>7.36</td>\n",
              "      <td>0.52</td>\n",
              "      <td>0.0</td>\n",
              "      <td>0.0</td>\n",
              "      <td>0.0</td>\n",
              "      <td>0.0</td>\n",
              "      <td>0.0</td>\n",
              "    </tr>\n",
              "  </tbody>\n",
              "</table>\n",
              "</div>"
            ],
            "text/plain": [
              "          Survey ID  ... Total trans fatty acids (mg)\n",
              "Food ID              ...                             \n",
              "10F40019   31103001  ...                          0.0\n",
              "13A12001   31302001  ...                          0.0\n",
              "10E10113   31302002  ...                          0.0\n",
              "10E10098   31302003  ...                          0.0\n",
              "10E10107   31302004  ...                          0.0\n",
              "\n",
              "[5 rows x 56 columns]"
            ]
          },
          "metadata": {},
          "execution_count": 6
        }
      ]
    },
    {
      "cell_type": "markdown",
      "metadata": {
        "id": "_T11l2PRR_2o"
      },
      "source": [
        "### Modificamos la segunda base de datos para poder concatenarla con la primera"
      ]
    },
    {
      "cell_type": "code",
      "metadata": {
        "colab": {
          "base_uri": "https://localhost:8080/"
        },
        "id": "bJp2ViaqSHVe",
        "outputId": "9c8c130f-be4b-4ea3-bbc1-9c0578951e9e"
      },
      "source": [
        "df2.columns"
      ],
      "execution_count": null,
      "outputs": [
        {
          "output_type": "execute_result",
          "data": {
            "text/plain": [
              "Index(['Survey ID', 'Food Name', 'Survey flag',\n",
              "       'Energy, with dietary fibre (kJ)', 'Energy, without dietary fibre (kJ)',\n",
              "       'Moisture (g)', 'Protein (g)', 'Total fat (g)',\n",
              "       'Available carbohydrates, with sugar alcohols (g)',\n",
              "       'Available carbohydrates, without sugar alcohol (g)', 'Starch (g)',\n",
              "       'Total sugars (g)', 'Added sugars (g)', 'Free sugars (g)',\n",
              "       'Dietary fibre (g)', 'Alcohol (g)', 'Ash (g)',\n",
              "       'Preformed vitamin A (retinol) (µg)', 'Beta-carotene (µg)',\n",
              "       'Provitamin A (b-carotene equivalents) (µg)',\n",
              "       'Vitamin A retinol equivalents (µg)', 'Thiamin (B1) (mg)',\n",
              "       'Riboflavin (B2) (mg)', 'Niacin (B3) (mg)',\n",
              "       'Niacin derived equivalents (mg)', 'Folate, natural  (µg)',\n",
              "       'Folic acid  (µg)', 'Total Folates  (µg)',\n",
              "       'Dietary folate equivalents  (µg)', 'Vitamin B6 (mg)',\n",
              "       'Vitamin B12  (µg)', 'Vitamin C (mg)', 'Alpha-tocopherol (mg)',\n",
              "       'Vitamin E (mg)', 'Calcium (Ca) (mg)', 'Iodine (I) (µg)',\n",
              "       'Iron (Fe) (mg)', 'Magnesium (Mg) (mg)', 'Phosphorus (P) (mg)',\n",
              "       'Potassium (K) (mg)', 'Selenium (Se) (µg)', 'Sodium (Na) (mg)',\n",
              "       'Zinc (Zn) (mg)', 'Caffeine (mg)', 'Cholesterol (mg)',\n",
              "       'Tryptophan (mg)', 'Total saturated fat (g)',\n",
              "       'Total monounsaturated fat (g)', 'Total polyunsaturated fat (g)',\n",
              "       'Linoleic acid (g)', 'Alpha-linolenic acid (g)',\n",
              "       'C20:5w3 Eicosapentaenoic (mg)', 'C22:5w3 Docosapentaenoic (mg)',\n",
              "       'C22:6w3 Docosahexaenoic (mg)',\n",
              "       'Total long chain omega 3 fatty acids (mg)',\n",
              "       'Total trans fatty acids (mg)'],\n",
              "      dtype='object')"
            ]
          },
          "metadata": {},
          "execution_count": 7
        }
      ]
    },
    {
      "cell_type": "code",
      "metadata": {
        "colab": {
          "base_uri": "https://localhost:8080/",
          "height": 238
        },
        "id": "3zysRkDFSUe6",
        "outputId": "abef2a21-15cc-4d9a-8199-9157c47e2d0b"
      },
      "source": [
        "list_to_drop = ['Survey ID', 'Food Name', 'Survey flag',\n",
        "       'Energy, with dietary fibre (kJ)', \n",
        "       'Moisture (g)', \n",
        "       'Available carbohydrates, without sugar alcohol (g)', 'Starch (g)',\n",
        "       'Total sugars (g)', 'Added sugars (g)', 'Free sugars (g)',\n",
        "       'Dietary fibre (g)', 'Alcohol (g)', 'Ash (g)',\n",
        "       'Preformed vitamin A (retinol) (µg)', 'Beta-carotene (µg)',\n",
        "       'Provitamin A (b-carotene equivalents) (µg)',\n",
        "       'Vitamin A retinol equivalents (µg)', 'Thiamin (B1) (mg)',\n",
        "       'Riboflavin (B2) (mg)', 'Niacin (B3) (mg)',\n",
        "       'Niacin derived equivalents (mg)', 'Folate, natural  (µg)',\n",
        "       'Folic acid  (µg)', 'Total Folates  (µg)',\n",
        "       'Dietary folate equivalents  (µg)', 'Vitamin B6 (mg)',\n",
        "       'Vitamin B12  (µg)', 'Vitamin C (mg)', 'Alpha-tocopherol (mg)',\n",
        "       'Vitamin E (mg)', 'Calcium (Ca) (mg)', 'Iodine (I) (µg)',\n",
        "       'Iron (Fe) (mg)', 'Magnesium (Mg) (mg)', 'Phosphorus (P) (mg)',\n",
        "       'Potassium (K) (mg)', 'Selenium (Se) (µg)',\n",
        "       'Zinc (Zn) (mg)', 'Caffeine (mg)', 'Cholesterol (mg)',\n",
        "       'Tryptophan (mg)', 'Total saturated fat (g)',\n",
        "       'Total monounsaturated fat (g)', 'Total polyunsaturated fat (g)',\n",
        "       'Linoleic acid (g)', 'Alpha-linolenic acid (g)',\n",
        "       'C20:5w3 Eicosapentaenoic (mg)', 'C22:5w3 Docosapentaenoic (mg)',\n",
        "       'C22:6w3 Docosahexaenoic (mg)',\n",
        "       'Total long chain omega 3 fatty acids (mg)',\n",
        "       'Total trans fatty acids (mg)']\n",
        "df2_Vars = df2.drop(list_to_drop, axis=1)\n",
        "df2_Vars.head()"
      ],
      "execution_count": null,
      "outputs": [
        {
          "output_type": "execute_result",
          "data": {
            "text/html": [
              "<div>\n",
              "<style scoped>\n",
              "    .dataframe tbody tr th:only-of-type {\n",
              "        vertical-align: middle;\n",
              "    }\n",
              "\n",
              "    .dataframe tbody tr th {\n",
              "        vertical-align: top;\n",
              "    }\n",
              "\n",
              "    .dataframe thead th {\n",
              "        text-align: right;\n",
              "    }\n",
              "</style>\n",
              "<table border=\"1\" class=\"dataframe\">\n",
              "  <thead>\n",
              "    <tr style=\"text-align: right;\">\n",
              "      <th></th>\n",
              "      <th>Energy, without dietary fibre (kJ)</th>\n",
              "      <th>Protein (g)</th>\n",
              "      <th>Total fat (g)</th>\n",
              "      <th>Available carbohydrates, with sugar alcohols (g)</th>\n",
              "      <th>Sodium (Na) (mg)</th>\n",
              "    </tr>\n",
              "    <tr>\n",
              "      <th>Food ID</th>\n",
              "      <th></th>\n",
              "      <th></th>\n",
              "      <th></th>\n",
              "      <th></th>\n",
              "      <th></th>\n",
              "    </tr>\n",
              "  </thead>\n",
              "  <tbody>\n",
              "    <tr>\n",
              "      <th>10F40019</th>\n",
              "      <td>401</td>\n",
              "      <td>16.6</td>\n",
              "      <td>0.2</td>\n",
              "      <td>6.5</td>\n",
              "      <td>6660</td>\n",
              "    </tr>\n",
              "    <tr>\n",
              "      <th>13A12001</th>\n",
              "      <td>774</td>\n",
              "      <td>18.2</td>\n",
              "      <td>5.5</td>\n",
              "      <td>15.5</td>\n",
              "      <td>118</td>\n",
              "    </tr>\n",
              "    <tr>\n",
              "      <th>10E10113</th>\n",
              "      <td>1109</td>\n",
              "      <td>10.8</td>\n",
              "      <td>6.7</td>\n",
              "      <td>40.5</td>\n",
              "      <td>18</td>\n",
              "    </tr>\n",
              "    <tr>\n",
              "      <th>10E10098</th>\n",
              "      <td>1167</td>\n",
              "      <td>12.3</td>\n",
              "      <td>16.8</td>\n",
              "      <td>20.5</td>\n",
              "      <td>1010</td>\n",
              "    </tr>\n",
              "    <tr>\n",
              "      <th>10E10107</th>\n",
              "      <td>1355</td>\n",
              "      <td>14.1</td>\n",
              "      <td>16.8</td>\n",
              "      <td>29.6</td>\n",
              "      <td>20</td>\n",
              "    </tr>\n",
              "  </tbody>\n",
              "</table>\n",
              "</div>"
            ],
            "text/plain": [
              "          Energy, without dietary fibre (kJ)  ...  Sodium (Na) (mg)\n",
              "Food ID                                       ...                  \n",
              "10F40019                                 401  ...              6660\n",
              "13A12001                                 774  ...               118\n",
              "10E10113                                1109  ...                18\n",
              "10E10098                                1167  ...              1010\n",
              "10E10107                                1355  ...                20\n",
              "\n",
              "[5 rows x 5 columns]"
            ]
          },
          "metadata": {},
          "execution_count": 8
        }
      ]
    },
    {
      "cell_type": "code",
      "metadata": {
        "colab": {
          "base_uri": "https://localhost:8080/"
        },
        "id": "xTaMkbjsy6eJ",
        "outputId": "f9f2c70a-fc5d-4b97-f06e-2f72042b4710"
      },
      "source": [
        "# Verificar si hay NaN values\n",
        "df2_Vars.isnull().values.any()"
      ],
      "execution_count": null,
      "outputs": [
        {
          "output_type": "execute_result",
          "data": {
            "text/plain": [
              "False"
            ]
          },
          "metadata": {},
          "execution_count": 9
        }
      ]
    },
    {
      "cell_type": "markdown",
      "metadata": {
        "id": "HBqso97yzBrk"
      },
      "source": [
        "No hay valores en blanco dentro del df de los atributos que nos importan"
      ]
    },
    {
      "cell_type": "markdown",
      "metadata": {
        "id": "tq9YPK40YkGM"
      },
      "source": [
        "#### La segunda base de datos tiene las calorías en otra unidad\n",
        "\n",
        "Hacemos la conversión de unidades en esa base de datos"
      ]
    },
    {
      "cell_type": "code",
      "metadata": {
        "id": "ktn6VBwzacEk"
      },
      "source": [
        "ids_df2 = df2_Vars.loc[:, \"Energy, without dietary fibre (kJ)\"].index.tolist()"
      ],
      "execution_count": null,
      "outputs": []
    },
    {
      "cell_type": "code",
      "metadata": {
        "id": "hw0KOy0lYwO3"
      },
      "source": [
        "for i in ids_df2:\n",
        "  val = df2_Vars.loc[i, \"Energy, without dietary fibre (kJ)\"]\n",
        "  df2_Vars.at[i, \"Energy, without dietary fibre (kJ)\"] = val/4.184"
      ],
      "execution_count": null,
      "outputs": []
    },
    {
      "cell_type": "code",
      "metadata": {
        "colab": {
          "base_uri": "https://localhost:8080/",
          "height": 455
        },
        "id": "6JMFzyxGdFnn",
        "outputId": "b080e57a-1324-4dba-bc29-7bcb35ea8272"
      },
      "source": [
        "df2_Vars"
      ],
      "execution_count": null,
      "outputs": [
        {
          "output_type": "execute_result",
          "data": {
            "text/html": [
              "<div>\n",
              "<style scoped>\n",
              "    .dataframe tbody tr th:only-of-type {\n",
              "        vertical-align: middle;\n",
              "    }\n",
              "\n",
              "    .dataframe tbody tr th {\n",
              "        vertical-align: top;\n",
              "    }\n",
              "\n",
              "    .dataframe thead th {\n",
              "        text-align: right;\n",
              "    }\n",
              "</style>\n",
              "<table border=\"1\" class=\"dataframe\">\n",
              "  <thead>\n",
              "    <tr style=\"text-align: right;\">\n",
              "      <th></th>\n",
              "      <th>Energy, without dietary fibre (kJ)</th>\n",
              "      <th>Protein (g)</th>\n",
              "      <th>Total fat (g)</th>\n",
              "      <th>Available carbohydrates, with sugar alcohols (g)</th>\n",
              "      <th>Sodium (Na) (mg)</th>\n",
              "    </tr>\n",
              "    <tr>\n",
              "      <th>Food ID</th>\n",
              "      <th></th>\n",
              "      <th></th>\n",
              "      <th></th>\n",
              "      <th></th>\n",
              "      <th></th>\n",
              "    </tr>\n",
              "  </thead>\n",
              "  <tbody>\n",
              "    <tr>\n",
              "      <th>10F40019</th>\n",
              "      <td>95</td>\n",
              "      <td>16.6</td>\n",
              "      <td>0.2</td>\n",
              "      <td>6.5</td>\n",
              "      <td>6660</td>\n",
              "    </tr>\n",
              "    <tr>\n",
              "      <th>13A12001</th>\n",
              "      <td>184</td>\n",
              "      <td>18.2</td>\n",
              "      <td>5.5</td>\n",
              "      <td>15.5</td>\n",
              "      <td>118</td>\n",
              "    </tr>\n",
              "    <tr>\n",
              "      <th>10E10113</th>\n",
              "      <td>265</td>\n",
              "      <td>10.8</td>\n",
              "      <td>6.7</td>\n",
              "      <td>40.5</td>\n",
              "      <td>18</td>\n",
              "    </tr>\n",
              "    <tr>\n",
              "      <th>10E10098</th>\n",
              "      <td>278</td>\n",
              "      <td>12.3</td>\n",
              "      <td>16.8</td>\n",
              "      <td>20.5</td>\n",
              "      <td>1010</td>\n",
              "    </tr>\n",
              "    <tr>\n",
              "      <th>10E10107</th>\n",
              "      <td>323</td>\n",
              "      <td>14.1</td>\n",
              "      <td>16.8</td>\n",
              "      <td>29.6</td>\n",
              "      <td>20</td>\n",
              "    </tr>\n",
              "    <tr>\n",
              "      <th>...</th>\n",
              "      <td>...</td>\n",
              "      <td>...</td>\n",
              "      <td>...</td>\n",
              "      <td>...</td>\n",
              "      <td>...</td>\n",
              "    </tr>\n",
              "    <tr>\n",
              "      <th>13A11950</th>\n",
              "      <td>81</td>\n",
              "      <td>1.2</td>\n",
              "      <td>7.6</td>\n",
              "      <td>2.3</td>\n",
              "      <td>1</td>\n",
              "    </tr>\n",
              "    <tr>\n",
              "      <th>13A11949</th>\n",
              "      <td>81</td>\n",
              "      <td>1.2</td>\n",
              "      <td>7.6</td>\n",
              "      <td>2.3</td>\n",
              "      <td>1</td>\n",
              "    </tr>\n",
              "    <tr>\n",
              "      <th>13A12055</th>\n",
              "      <td>80</td>\n",
              "      <td>1.2</td>\n",
              "      <td>7.4</td>\n",
              "      <td>2.3</td>\n",
              "      <td>5</td>\n",
              "    </tr>\n",
              "    <tr>\n",
              "      <th>13A11848</th>\n",
              "      <td>15</td>\n",
              "      <td>1.1</td>\n",
              "      <td>0.4</td>\n",
              "      <td>2.0</td>\n",
              "      <td>1</td>\n",
              "    </tr>\n",
              "    <tr>\n",
              "      <th>13A12582</th>\n",
              "      <td>67</td>\n",
              "      <td>1.0</td>\n",
              "      <td>6.3</td>\n",
              "      <td>1.9</td>\n",
              "      <td>1</td>\n",
              "    </tr>\n",
              "  </tbody>\n",
              "</table>\n",
              "<p>5740 rows × 5 columns</p>\n",
              "</div>"
            ],
            "text/plain": [
              "          Energy, without dietary fibre (kJ)  ...  Sodium (Na) (mg)\n",
              "Food ID                                       ...                  \n",
              "10F40019                                  95  ...              6660\n",
              "13A12001                                 184  ...               118\n",
              "10E10113                                 265  ...                18\n",
              "10E10098                                 278  ...              1010\n",
              "10E10107                                 323  ...                20\n",
              "...                                      ...  ...               ...\n",
              "13A11950                                  81  ...                 1\n",
              "13A11949                                  81  ...                 1\n",
              "13A12055                                  80  ...                 5\n",
              "13A11848                                  15  ...                 1\n",
              "13A12582                                  67  ...                 1\n",
              "\n",
              "[5740 rows x 5 columns]"
            ]
          },
          "metadata": {},
          "execution_count": 12
        }
      ]
    },
    {
      "cell_type": "markdown",
      "metadata": {
        "id": "h16SRcm7DDkq"
      },
      "source": [
        "Renombramos los atributos para hacer la concatenación"
      ]
    },
    {
      "cell_type": "code",
      "metadata": {
        "colab": {
          "base_uri": "https://localhost:8080/",
          "height": 238
        },
        "id": "8hdt6DRCS22_",
        "outputId": "4b2b734c-05f5-43da-8b76-cf7537f43003"
      },
      "source": [
        "d = {'Energy, without dietary fibre (kJ)': 'Calorias (cal)',\n",
        "     'Protein (g)': 'Proteína (g)', \n",
        "     'Total fat (g)': 'Lípidos (g)', \n",
        "     'Available carbohydrates, with sugar alcohols (g)': 'Carbohidratos (g)', \n",
        "     'Sodium (Na) (mg)': 'Sodio (mg)'}\n",
        "df2_Vars.rename(columns = d, inplace = True)\n",
        "df2_Vars.head()"
      ],
      "execution_count": null,
      "outputs": [
        {
          "output_type": "execute_result",
          "data": {
            "text/html": [
              "<div>\n",
              "<style scoped>\n",
              "    .dataframe tbody tr th:only-of-type {\n",
              "        vertical-align: middle;\n",
              "    }\n",
              "\n",
              "    .dataframe tbody tr th {\n",
              "        vertical-align: top;\n",
              "    }\n",
              "\n",
              "    .dataframe thead th {\n",
              "        text-align: right;\n",
              "    }\n",
              "</style>\n",
              "<table border=\"1\" class=\"dataframe\">\n",
              "  <thead>\n",
              "    <tr style=\"text-align: right;\">\n",
              "      <th></th>\n",
              "      <th>Calorias (cal)</th>\n",
              "      <th>Proteína (g)</th>\n",
              "      <th>Lípidos (g)</th>\n",
              "      <th>Carbohidratos (g)</th>\n",
              "      <th>Sodio (mg)</th>\n",
              "    </tr>\n",
              "    <tr>\n",
              "      <th>Food ID</th>\n",
              "      <th></th>\n",
              "      <th></th>\n",
              "      <th></th>\n",
              "      <th></th>\n",
              "      <th></th>\n",
              "    </tr>\n",
              "  </thead>\n",
              "  <tbody>\n",
              "    <tr>\n",
              "      <th>10F40019</th>\n",
              "      <td>95</td>\n",
              "      <td>16.6</td>\n",
              "      <td>0.2</td>\n",
              "      <td>6.5</td>\n",
              "      <td>6660</td>\n",
              "    </tr>\n",
              "    <tr>\n",
              "      <th>13A12001</th>\n",
              "      <td>184</td>\n",
              "      <td>18.2</td>\n",
              "      <td>5.5</td>\n",
              "      <td>15.5</td>\n",
              "      <td>118</td>\n",
              "    </tr>\n",
              "    <tr>\n",
              "      <th>10E10113</th>\n",
              "      <td>265</td>\n",
              "      <td>10.8</td>\n",
              "      <td>6.7</td>\n",
              "      <td>40.5</td>\n",
              "      <td>18</td>\n",
              "    </tr>\n",
              "    <tr>\n",
              "      <th>10E10098</th>\n",
              "      <td>278</td>\n",
              "      <td>12.3</td>\n",
              "      <td>16.8</td>\n",
              "      <td>20.5</td>\n",
              "      <td>1010</td>\n",
              "    </tr>\n",
              "    <tr>\n",
              "      <th>10E10107</th>\n",
              "      <td>323</td>\n",
              "      <td>14.1</td>\n",
              "      <td>16.8</td>\n",
              "      <td>29.6</td>\n",
              "      <td>20</td>\n",
              "    </tr>\n",
              "  </tbody>\n",
              "</table>\n",
              "</div>"
            ],
            "text/plain": [
              "          Calorias (cal)  Proteína (g)  ...  Carbohidratos (g)  Sodio (mg)\n",
              "Food ID                                 ...                               \n",
              "10F40019              95          16.6  ...                6.5        6660\n",
              "13A12001             184          18.2  ...               15.5         118\n",
              "10E10113             265          10.8  ...               40.5          18\n",
              "10E10098             278          12.3  ...               20.5        1010\n",
              "10E10107             323          14.1  ...               29.6          20\n",
              "\n",
              "[5 rows x 5 columns]"
            ]
          },
          "metadata": {},
          "execution_count": 13
        }
      ]
    },
    {
      "cell_type": "markdown",
      "metadata": {
        "id": "UZbTDTNzUwfH"
      },
      "source": [
        "### Concatenamos las dos bases de datos\n",
        "\n",
        "Solo tomando en cuenta las variables que nos importan"
      ]
    },
    {
      "cell_type": "code",
      "metadata": {
        "colab": {
          "base_uri": "https://localhost:8080/"
        },
        "id": "fMYqeafmd041",
        "outputId": "c544e62c-3741-4e46-d068-be9bbb129806"
      },
      "source": [
        "df1.columns"
      ],
      "execution_count": null,
      "outputs": [
        {
          "output_type": "execute_result",
          "data": {
            "text/plain": [
              "Index(['Fecha', 'Hora', 'Nombre', 'Calorias (cal)', 'Carbohidratos (g)',\n",
              "       'Lípidos (g)', 'Proteína (g)', 'Sodio (mg)', 'Fuente'],\n",
              "      dtype='object')"
            ]
          },
          "metadata": {},
          "execution_count": 14
        }
      ]
    },
    {
      "cell_type": "code",
      "metadata": {
        "colab": {
          "base_uri": "https://localhost:8080/",
          "height": 238
        },
        "id": "rO19-wyHU6sc",
        "outputId": "2e176653-f219-44f5-aeb7-559117a5e46c"
      },
      "source": [
        "list_to_drop = ['Fecha', 'Hora', 'Nombre', 'Fuente']\n",
        "df1_Vars = df1.drop(list_to_drop, axis=1)\n",
        "df1_Vars.head()"
      ],
      "execution_count": null,
      "outputs": [
        {
          "output_type": "execute_result",
          "data": {
            "text/html": [
              "<div>\n",
              "<style scoped>\n",
              "    .dataframe tbody tr th:only-of-type {\n",
              "        vertical-align: middle;\n",
              "    }\n",
              "\n",
              "    .dataframe tbody tr th {\n",
              "        vertical-align: top;\n",
              "    }\n",
              "\n",
              "    .dataframe thead th {\n",
              "        text-align: right;\n",
              "    }\n",
              "</style>\n",
              "<table border=\"1\" class=\"dataframe\">\n",
              "  <thead>\n",
              "    <tr style=\"text-align: right;\">\n",
              "      <th></th>\n",
              "      <th>Calorias (cal)</th>\n",
              "      <th>Carbohidratos (g)</th>\n",
              "      <th>Lípidos (g)</th>\n",
              "      <th>Proteína (g)</th>\n",
              "      <th>Sodio (mg)</th>\n",
              "    </tr>\n",
              "    <tr>\n",
              "      <th>ID</th>\n",
              "      <th></th>\n",
              "      <th></th>\n",
              "      <th></th>\n",
              "      <th></th>\n",
              "      <th></th>\n",
              "    </tr>\n",
              "  </thead>\n",
              "  <tbody>\n",
              "    <tr>\n",
              "      <th>1</th>\n",
              "      <td>156</td>\n",
              "      <td>0.74</td>\n",
              "      <td>11.76</td>\n",
              "      <td>10.84</td>\n",
              "      <td>414.0</td>\n",
              "    </tr>\n",
              "    <tr>\n",
              "      <th>2</th>\n",
              "      <td>105</td>\n",
              "      <td>27.00</td>\n",
              "      <td>0.40</td>\n",
              "      <td>1.30</td>\n",
              "      <td>0.0</td>\n",
              "    </tr>\n",
              "    <tr>\n",
              "      <th>3</th>\n",
              "      <td>80</td>\n",
              "      <td>13.60</td>\n",
              "      <td>2.00</td>\n",
              "      <td>1.90</td>\n",
              "      <td>25.5</td>\n",
              "    </tr>\n",
              "    <tr>\n",
              "      <th>4</th>\n",
              "      <td>300</td>\n",
              "      <td>41.90</td>\n",
              "      <td>6.70</td>\n",
              "      <td>16.10</td>\n",
              "      <td>0.0</td>\n",
              "    </tr>\n",
              "    <tr>\n",
              "      <th>5</th>\n",
              "      <td>342</td>\n",
              "      <td>2.00</td>\n",
              "      <td>18.60</td>\n",
              "      <td>41.60</td>\n",
              "      <td>0.0</td>\n",
              "    </tr>\n",
              "  </tbody>\n",
              "</table>\n",
              "</div>"
            ],
            "text/plain": [
              "    Calorias (cal)  Carbohidratos (g)  Lípidos (g)  Proteína (g)  Sodio (mg)\n",
              "ID                                                                          \n",
              "1              156               0.74        11.76         10.84       414.0\n",
              "2              105              27.00         0.40          1.30         0.0\n",
              "3               80              13.60         2.00          1.90        25.5\n",
              "4              300              41.90         6.70         16.10         0.0\n",
              "5              342               2.00        18.60         41.60         0.0"
            ]
          },
          "metadata": {},
          "execution_count": 15
        }
      ]
    },
    {
      "cell_type": "code",
      "metadata": {
        "colab": {
          "base_uri": "https://localhost:8080/",
          "height": 423
        },
        "id": "90RN1KY6VKD4",
        "outputId": "d1c1aa0c-e215-4dd0-8a0f-a78f008ef5cf"
      },
      "source": [
        "df3 = pd.concat([df1_Vars, df2_Vars])\n",
        "df3"
      ],
      "execution_count": null,
      "outputs": [
        {
          "output_type": "execute_result",
          "data": {
            "text/html": [
              "<div>\n",
              "<style scoped>\n",
              "    .dataframe tbody tr th:only-of-type {\n",
              "        vertical-align: middle;\n",
              "    }\n",
              "\n",
              "    .dataframe tbody tr th {\n",
              "        vertical-align: top;\n",
              "    }\n",
              "\n",
              "    .dataframe thead th {\n",
              "        text-align: right;\n",
              "    }\n",
              "</style>\n",
              "<table border=\"1\" class=\"dataframe\">\n",
              "  <thead>\n",
              "    <tr style=\"text-align: right;\">\n",
              "      <th></th>\n",
              "      <th>Calorias (cal)</th>\n",
              "      <th>Carbohidratos (g)</th>\n",
              "      <th>Lípidos (g)</th>\n",
              "      <th>Proteína (g)</th>\n",
              "      <th>Sodio (mg)</th>\n",
              "    </tr>\n",
              "  </thead>\n",
              "  <tbody>\n",
              "    <tr>\n",
              "      <th>1</th>\n",
              "      <td>156</td>\n",
              "      <td>0.74</td>\n",
              "      <td>11.76</td>\n",
              "      <td>10.84</td>\n",
              "      <td>414.0</td>\n",
              "    </tr>\n",
              "    <tr>\n",
              "      <th>2</th>\n",
              "      <td>105</td>\n",
              "      <td>27.00</td>\n",
              "      <td>0.40</td>\n",
              "      <td>1.30</td>\n",
              "      <td>0.0</td>\n",
              "    </tr>\n",
              "    <tr>\n",
              "      <th>3</th>\n",
              "      <td>80</td>\n",
              "      <td>13.60</td>\n",
              "      <td>2.00</td>\n",
              "      <td>1.90</td>\n",
              "      <td>25.5</td>\n",
              "    </tr>\n",
              "    <tr>\n",
              "      <th>4</th>\n",
              "      <td>300</td>\n",
              "      <td>41.90</td>\n",
              "      <td>6.70</td>\n",
              "      <td>16.10</td>\n",
              "      <td>0.0</td>\n",
              "    </tr>\n",
              "    <tr>\n",
              "      <th>5</th>\n",
              "      <td>342</td>\n",
              "      <td>2.00</td>\n",
              "      <td>18.60</td>\n",
              "      <td>41.60</td>\n",
              "      <td>0.0</td>\n",
              "    </tr>\n",
              "    <tr>\n",
              "      <th>...</th>\n",
              "      <td>...</td>\n",
              "      <td>...</td>\n",
              "      <td>...</td>\n",
              "      <td>...</td>\n",
              "      <td>...</td>\n",
              "    </tr>\n",
              "    <tr>\n",
              "      <th>13A11950</th>\n",
              "      <td>81</td>\n",
              "      <td>2.30</td>\n",
              "      <td>7.60</td>\n",
              "      <td>1.20</td>\n",
              "      <td>1.0</td>\n",
              "    </tr>\n",
              "    <tr>\n",
              "      <th>13A11949</th>\n",
              "      <td>81</td>\n",
              "      <td>2.30</td>\n",
              "      <td>7.60</td>\n",
              "      <td>1.20</td>\n",
              "      <td>1.0</td>\n",
              "    </tr>\n",
              "    <tr>\n",
              "      <th>13A12055</th>\n",
              "      <td>80</td>\n",
              "      <td>2.30</td>\n",
              "      <td>7.40</td>\n",
              "      <td>1.20</td>\n",
              "      <td>5.0</td>\n",
              "    </tr>\n",
              "    <tr>\n",
              "      <th>13A11848</th>\n",
              "      <td>15</td>\n",
              "      <td>2.00</td>\n",
              "      <td>0.40</td>\n",
              "      <td>1.10</td>\n",
              "      <td>1.0</td>\n",
              "    </tr>\n",
              "    <tr>\n",
              "      <th>13A12582</th>\n",
              "      <td>67</td>\n",
              "      <td>1.90</td>\n",
              "      <td>6.30</td>\n",
              "      <td>1.00</td>\n",
              "      <td>1.0</td>\n",
              "    </tr>\n",
              "  </tbody>\n",
              "</table>\n",
              "<p>6218 rows × 5 columns</p>\n",
              "</div>"
            ],
            "text/plain": [
              "          Calorias (cal)  Carbohidratos (g)  ...  Proteína (g)  Sodio (mg)\n",
              "1                    156               0.74  ...         10.84       414.0\n",
              "2                    105              27.00  ...          1.30         0.0\n",
              "3                     80              13.60  ...          1.90        25.5\n",
              "4                    300              41.90  ...         16.10         0.0\n",
              "5                    342               2.00  ...         41.60         0.0\n",
              "...                  ...                ...  ...           ...         ...\n",
              "13A11950              81               2.30  ...          1.20         1.0\n",
              "13A11949              81               2.30  ...          1.20         1.0\n",
              "13A12055              80               2.30  ...          1.20         5.0\n",
              "13A11848              15               2.00  ...          1.10         1.0\n",
              "13A12582              67               1.90  ...          1.00         1.0\n",
              "\n",
              "[6218 rows x 5 columns]"
            ]
          },
          "metadata": {},
          "execution_count": 16
        }
      ]
    },
    {
      "cell_type": "markdown",
      "metadata": {
        "id": "rTQXneHOW8pp"
      },
      "source": [
        "Si la suma del número de renglones de ambos df es igual al número de renglones del df3, la concatenación se hizo correctamente."
      ]
    },
    {
      "cell_type": "code",
      "metadata": {
        "colab": {
          "base_uri": "https://localhost:8080/"
        },
        "id": "tMf2zcEOWtFH",
        "outputId": "10fa0f13-2eca-4ee4-b2e9-032229809ef8"
      },
      "source": [
        "if df1_Vars.shape[0] + df2_Vars.shape[0] == df3.shape[0]:\n",
        "  print('---')"
      ],
      "execution_count": null,
      "outputs": [
        {
          "output_type": "stream",
          "name": "stdout",
          "text": [
            "---\n"
          ]
        }
      ]
    },
    {
      "cell_type": "markdown",
      "metadata": {
        "id": "ts0ojHWARwvx"
      },
      "source": [
        "### Obtenemos las variables predictoras"
      ]
    },
    {
      "cell_type": "code",
      "metadata": {
        "colab": {
          "base_uri": "https://localhost:8080/",
          "height": 206
        },
        "id": "-ZQyFSETioUb",
        "outputId": "5492e738-d53d-466d-b828-3badf35628b6"
      },
      "source": [
        "# Predicting attributes df\n",
        "X = df3.drop(['Calorias (cal)'], axis=1)\n",
        "X.head()"
      ],
      "execution_count": null,
      "outputs": [
        {
          "output_type": "execute_result",
          "data": {
            "text/html": [
              "<div>\n",
              "<style scoped>\n",
              "    .dataframe tbody tr th:only-of-type {\n",
              "        vertical-align: middle;\n",
              "    }\n",
              "\n",
              "    .dataframe tbody tr th {\n",
              "        vertical-align: top;\n",
              "    }\n",
              "\n",
              "    .dataframe thead th {\n",
              "        text-align: right;\n",
              "    }\n",
              "</style>\n",
              "<table border=\"1\" class=\"dataframe\">\n",
              "  <thead>\n",
              "    <tr style=\"text-align: right;\">\n",
              "      <th></th>\n",
              "      <th>Carbohidratos (g)</th>\n",
              "      <th>Lípidos (g)</th>\n",
              "      <th>Proteína (g)</th>\n",
              "      <th>Sodio (mg)</th>\n",
              "    </tr>\n",
              "  </thead>\n",
              "  <tbody>\n",
              "    <tr>\n",
              "      <th>1</th>\n",
              "      <td>0.74</td>\n",
              "      <td>11.76</td>\n",
              "      <td>10.84</td>\n",
              "      <td>414.0</td>\n",
              "    </tr>\n",
              "    <tr>\n",
              "      <th>2</th>\n",
              "      <td>27.00</td>\n",
              "      <td>0.40</td>\n",
              "      <td>1.30</td>\n",
              "      <td>0.0</td>\n",
              "    </tr>\n",
              "    <tr>\n",
              "      <th>3</th>\n",
              "      <td>13.60</td>\n",
              "      <td>2.00</td>\n",
              "      <td>1.90</td>\n",
              "      <td>25.5</td>\n",
              "    </tr>\n",
              "    <tr>\n",
              "      <th>4</th>\n",
              "      <td>41.90</td>\n",
              "      <td>6.70</td>\n",
              "      <td>16.10</td>\n",
              "      <td>0.0</td>\n",
              "    </tr>\n",
              "    <tr>\n",
              "      <th>5</th>\n",
              "      <td>2.00</td>\n",
              "      <td>18.60</td>\n",
              "      <td>41.60</td>\n",
              "      <td>0.0</td>\n",
              "    </tr>\n",
              "  </tbody>\n",
              "</table>\n",
              "</div>"
            ],
            "text/plain": [
              "   Carbohidratos (g)  Lípidos (g)  Proteína (g)  Sodio (mg)\n",
              "1               0.74        11.76         10.84       414.0\n",
              "2              27.00         0.40          1.30         0.0\n",
              "3              13.60         2.00          1.90        25.5\n",
              "4              41.90         6.70         16.10         0.0\n",
              "5               2.00        18.60         41.60         0.0"
            ]
          },
          "metadata": {},
          "execution_count": 18
        }
      ]
    },
    {
      "cell_type": "code",
      "metadata": {
        "colab": {
          "base_uri": "https://localhost:8080/"
        },
        "id": "ZR0I6lBljXJk",
        "outputId": "d9434cb3-5479-4f06-9140-c4a512682a59"
      },
      "source": [
        "# Dependent variable\n",
        "y = df3['Calorias (cal)']\n",
        "y.head()"
      ],
      "execution_count": null,
      "outputs": [
        {
          "output_type": "execute_result",
          "data": {
            "text/plain": [
              "1    156\n",
              "2    105\n",
              "3     80\n",
              "4    300\n",
              "5    342\n",
              "Name: Calorias (cal), dtype: int64"
            ]
          },
          "metadata": {},
          "execution_count": 19
        }
      ]
    },
    {
      "cell_type": "markdown",
      "metadata": {
        "id": "enjGXwcbE9r0"
      },
      "source": [
        "Hasta el momento, **X** es un df con nuestras variables predictoras/independientes, mientras que **y** es un pd series de nuestra variable de respuesta. "
      ]
    },
    {
      "cell_type": "markdown",
      "metadata": {
        "id": "hTqgsmFXFQoR"
      },
      "source": [
        "## Creamos el Modelo de Regresión lineal"
      ]
    },
    {
      "cell_type": "markdown",
      "metadata": {
        "id": "Ifung4ePoWvH"
      },
      "source": [
        "En los modelos ML supervisados, como regresión lineal, se deben separar los datos en un conjunto de entrenamiento y otro de prueba."
      ]
    },
    {
      "cell_type": "code",
      "metadata": {
        "id": "n97dYmZLkbFw"
      },
      "source": [
        "# Importing train_test_split from sklearn\n",
        "from sklearn.model_selection import train_test_split\n",
        "# splitting the data                                                   \n",
        "x_train, x_test, y_train, y_test = train_test_split(X, \n",
        "                                                    y, \n",
        "                                                    test_size = 0.2, # 20-30 % \n",
        "                                                    random_state = 42) # cualquier n\n",
        "# x_train, x_test, y_train, y_test"
      ],
      "execution_count": null,
      "outputs": []
    },
    {
      "cell_type": "code",
      "metadata": {
        "colab": {
          "base_uri": "https://localhost:8080/",
          "height": 206
        },
        "id": "UCNoQB4un1t0",
        "outputId": "34b33faa-61e2-44f4-a748-e7e18d23d8da"
      },
      "source": [
        "x_train.head()"
      ],
      "execution_count": null,
      "outputs": [
        {
          "output_type": "execute_result",
          "data": {
            "text/html": [
              "<div>\n",
              "<style scoped>\n",
              "    .dataframe tbody tr th:only-of-type {\n",
              "        vertical-align: middle;\n",
              "    }\n",
              "\n",
              "    .dataframe tbody tr th {\n",
              "        vertical-align: top;\n",
              "    }\n",
              "\n",
              "    .dataframe thead th {\n",
              "        text-align: right;\n",
              "    }\n",
              "</style>\n",
              "<table border=\"1\" class=\"dataframe\">\n",
              "  <thead>\n",
              "    <tr style=\"text-align: right;\">\n",
              "      <th></th>\n",
              "      <th>Carbohidratos (g)</th>\n",
              "      <th>Lípidos (g)</th>\n",
              "      <th>Proteína (g)</th>\n",
              "      <th>Sodio (mg)</th>\n",
              "    </tr>\n",
              "  </thead>\n",
              "  <tbody>\n",
              "    <tr>\n",
              "      <th>05A10648</th>\n",
              "      <td>0.0</td>\n",
              "      <td>1.0</td>\n",
              "      <td>21.1</td>\n",
              "      <td>97.0</td>\n",
              "    </tr>\n",
              "    <tr>\n",
              "      <th>09D10246</th>\n",
              "      <td>24.2</td>\n",
              "      <td>3.0</td>\n",
              "      <td>3.6</td>\n",
              "      <td>54.0</td>\n",
              "    </tr>\n",
              "    <tr>\n",
              "      <th>13A11950</th>\n",
              "      <td>2.3</td>\n",
              "      <td>7.6</td>\n",
              "      <td>1.2</td>\n",
              "      <td>1.0</td>\n",
              "    </tr>\n",
              "    <tr>\n",
              "      <th>13A12084</th>\n",
              "      <td>2.1</td>\n",
              "      <td>1.5</td>\n",
              "      <td>2.4</td>\n",
              "      <td>36.0</td>\n",
              "    </tr>\n",
              "    <tr>\n",
              "      <th>02D10267</th>\n",
              "      <td>81.2</td>\n",
              "      <td>1.1</td>\n",
              "      <td>6.8</td>\n",
              "      <td>658.0</td>\n",
              "    </tr>\n",
              "  </tbody>\n",
              "</table>\n",
              "</div>"
            ],
            "text/plain": [
              "          Carbohidratos (g)  Lípidos (g)  Proteína (g)  Sodio (mg)\n",
              "05A10648                0.0          1.0          21.1        97.0\n",
              "09D10246               24.2          3.0           3.6        54.0\n",
              "13A11950                2.3          7.6           1.2         1.0\n",
              "13A12084                2.1          1.5           2.4        36.0\n",
              "02D10267               81.2          1.1           6.8       658.0"
            ]
          },
          "metadata": {},
          "execution_count": 21
        }
      ]
    },
    {
      "cell_type": "markdown",
      "metadata": {
        "id": "26lzY2kKqHry"
      },
      "source": [
        "Creamos el modelo de regresión lineal (podríamos usar cualquier otro modelo de regresión de sklearn) (El regresor que tiene mejor desempeño en este momento es XGBoost regression)"
      ]
    },
    {
      "cell_type": "code",
      "metadata": {
        "colab": {
          "base_uri": "https://localhost:8080/"
        },
        "id": "ntp9r7bqpQVd",
        "outputId": "8d218e8e-887a-4537-a467-1ea2258d3fc2"
      },
      "source": [
        "# importing module\n",
        "from sklearn.linear_model import LinearRegression\n",
        "\n",
        "# creating an object of LinearRegression class\n",
        "LR = LinearRegression()\n",
        "\n",
        "# fitting the training data\n",
        "LR.fit(x_train, y_train)"
      ],
      "execution_count": null,
      "outputs": [
        {
          "output_type": "execute_result",
          "data": {
            "text/plain": [
              "LinearRegression()"
            ]
          },
          "metadata": {},
          "execution_count": 22
        }
      ]
    },
    {
      "cell_type": "code",
      "metadata": {
        "colab": {
          "base_uri": "https://localhost:8080/"
        },
        "id": "enN13-Fmpoa2",
        "outputId": "2922e216-ba1f-476e-a317-580a29d8613f"
      },
      "source": [
        "y_prediction_lr = LR.predict(x_test)\n",
        "y_prediction_lr"
      ],
      "execution_count": null,
      "outputs": [
        {
          "output_type": "execute_result",
          "data": {
            "text/plain": [
              "array([177.77423326, 245.52189279, 323.35809808, ..., 430.93343467,\n",
              "       115.34234878, 349.99741754])"
            ]
          },
          "metadata": {},
          "execution_count": 23
        }
      ]
    },
    {
      "cell_type": "markdown",
      "metadata": {
        "id": "mQefo86rrrmw"
      },
      "source": [
        "### Métricas para evaluar el desempeño del modelo"
      ]
    },
    {
      "cell_type": "code",
      "metadata": {
        "colab": {
          "base_uri": "https://localhost:8080/"
        },
        "id": "psF_osc2qTwB",
        "outputId": "dc9c6f75-ac76-4d87-f939-8842665c90eb"
      },
      "source": [
        "from sklearn.metrics import r2_score\n",
        "from sklearn.metrics import mean_squared_error\n",
        "\n",
        "# predicting the accuracy score\n",
        "score_lr = r2_score(y_test, y_prediction_lr)\n",
        "\n",
        "\n",
        "print('r2 score de la rl es', score_lr)\n",
        "\n",
        "print('mean_srqd error de la rl is--', mean_squared_error(y_test, y_prediction_lr))\n",
        "\n",
        "print('root_mean_squared error de la rl--', np.sqrt(mean_squared_error(y_test, y_prediction_lr)))"
      ],
      "execution_count": null,
      "outputs": [
        {
          "output_type": "stream",
          "name": "stdout",
          "text": [
            "r2 score de la rl es 0.9910221038977085\n",
            "mean_srqd error de la rl is-- 201.07482642870087\n",
            "root_mean_squared error de la rl-- 14.180085557876613\n"
          ]
        }
      ]
    },
    {
      "cell_type": "markdown",
      "metadata": {
        "id": "163DMOLssz0j"
      },
      "source": [
        "Ahora:\n",
        "1. Averiguar los coeficientes del modelo (Google)\n",
        "2. Graficar de a pares las variables independientes contra la variable dependiente. (Matoplotlib)\n",
        "3. Determinar con un F-test si el modelo es sifnigicativo (Google)"
      ]
    },
    {
      "cell_type": "markdown",
      "metadata": {
        "id": "sHQqAs3xulTO"
      },
      "source": [
        "### Coeficientes"
      ]
    },
    {
      "cell_type": "code",
      "metadata": {
        "colab": {
          "base_uri": "https://localhost:8080/"
        },
        "id": "8UTiI3IuunJt",
        "outputId": "bb261539-5619-4c01-ed35-ab3afbfa5b86"
      },
      "source": [
        "c_carbs, c_lips, c_prots, c_sod = LR.coef_\n",
        "print(f\"\"\"\n",
        "Los coeficientes del modelo son:\n",
        "Carbohidratos: {c_carbs:.4f}\n",
        "Lípidos: {c_lips:.4f}\n",
        "Proteínas: {c_prots:.4f}\n",
        "Sodio: {c_sod:.4f}\"\"\")"
      ],
      "execution_count": null,
      "outputs": [
        {
          "output_type": "stream",
          "name": "stdout",
          "text": [
            "\n",
            "Los coeficientes del modelo son:\n",
            "Carbohidratos: 3.9027\n",
            "Lípidos: 8.7869\n",
            "Proteínas: 3.9670\n",
            "Sodio: 0.0000\n"
          ]
        }
      ]
    },
    {
      "cell_type": "markdown",
      "metadata": {
        "id": "XnUeBFrQt54h"
      },
      "source": [
        "### Gráficas\n",
        "\n",
        "Son 4 gráficas en tres dimensiones"
      ]
    },
    {
      "cell_type": "code",
      "metadata": {
        "colab": {
          "base_uri": "https://localhost:8080/",
          "height": 494
        },
        "id": "ibyk8DUYvICq",
        "outputId": "5fa51e9b-1bd8-4f4a-c1b6-e7f44df0b0bc"
      },
      "source": [
        "from mpl_toolkits.mplot3d import axes3d\n",
        "from matplotlib import style\n",
        "\n",
        "# Array del eje z -> las calorías\n",
        "y_np_arr = np.array([y_test])\n",
        "\n",
        "# Creamos la figura\n",
        "fig1 = plt.figure(figsize=(16, 8), dpi=60)\n",
        "plt.suptitle(\"Nutrientes de mi registro de alimentos\")\n",
        "\n",
        "\n",
        "# Gráfico para Carbs, Prots y Cals\n",
        "                            # plano 3d\n",
        "ax1 = fig1.add_subplot(121, projection='3d')\n",
        "ax1.plot_wireframe(x_test[\"Carbohidratos (g)\"], x_test[\"Proteína (g)\"], y_np_arr)\n",
        "ax1.title.set_text(\"Carbohidratos y Proteínas vs Calorías\")\n",
        "ax1.set_xlabel(\"Carbohidratos (g)\")\n",
        "ax1.set_ylabel(\"Proteínas (g)\")\n",
        "ax1.set_zlabel(\"Calorías (cal)\")\n",
        "\n",
        "# Gráfico para Carbs, Líps y Cals\n",
        "                            # plano 3d\n",
        "ax2 = fig1.add_subplot(122, projection='3d')\n",
        "ax2.plot_wireframe(x_test[\"Carbohidratos (g)\"], x_test[\"Lípidos (g)\"], y_np_arr)\n",
        "ax2.title.set_text(\"Carbohidratos y Lípidos vs Calorías\")\n",
        "ax2.set_xlabel(\"Carbohidratos (g)\")\n",
        "ax2.set_ylabel(\"Lípidos (g)\")\n",
        "ax2.set_zlabel(\"Calorías (cal)\")\n",
        "\n",
        "fig1.show()"
      ],
      "execution_count": null,
      "outputs": [
        {
          "output_type": "stream",
          "name": "stderr",
          "text": [
            "/usr/local/lib/python3.7/dist-packages/numpy/core/_asarray.py:136: VisibleDeprecationWarning: Creating an ndarray from ragged nested sequences (which is a list-or-tuple of lists-or-tuples-or ndarrays with different lengths or shapes) is deprecated. If you meant to do this, you must specify 'dtype=object' when creating the ndarray\n",
            "  return array(a, dtype, copy=False, order=order, subok=True)\n"
          ]
        },
        {
          "output_type": "display_data",
          "data": {
            "image/png": "[encoded data removed]",
            "text/plain": [
              "<Figure size 960x480 with 2 Axes>"
            ]
          },
          "metadata": {
            "needs_background": "light"
          }
        }
      ]
    },
    {
      "cell_type": "markdown",
      "metadata": {
        "id": "ZOcZmcbKPBKb"
      },
      "source": [
        "Las primeras dos gráficas son de Carbohidratos y Proteínas vs Calorías, y Carbohidratos y Lípidos vs Calorías."
      ]
    },
    {
      "cell_type": "code",
      "metadata": {
        "colab": {
          "base_uri": "https://localhost:8080/",
          "height": 439
        },
        "id": "KYhxr8_vHyXi",
        "outputId": "676ba6da-08b4-48b0-cae3-a8ea5c487bf5"
      },
      "source": [
        "fig2 = plt.figure(figsize=(16, 8), dpi=60)\n",
        "plt.suptitle(\"Nutrientes de mi registro de alimentos\")\n",
        "\n",
        "# Gráfico para Prots, Líps y Cals\n",
        "                            # plano 3d\n",
        "ax3 = fig2.add_subplot(121, projection='3d')\n",
        "ax3.scatter(x_test[\"Proteína (g)\"], x_test[\"Lípidos (g)\"], y_test)\n",
        "ax3.title.set_text(\"Proteínas y Lípidos vs Calorías\")\n",
        "ax3.set_xlabel(\"Proteínas (g)\")\n",
        "ax3.set_ylabel(\"Lípidos (g)\")\n",
        "ax3.set_zlabel(\"Calorías (cal)\")\n",
        "\n",
        "# Gráfico para Prots, Sodio y Cals\n",
        "                            # plano 3d\n",
        "ax4 = fig2.add_subplot(122, projection='3d')\n",
        "ax4.scatter(x_test[\"Proteína (g)\"], x_test[\"Sodio (mg)\"], y_test)\n",
        "ax4.title.set_text(\"Proteínas y Sodio vs Calorías\")\n",
        "ax4.set_xlabel(\"Proteínas (g)\")\n",
        "ax4.set_ylabel(\"Sodio (mg)\")\n",
        "ax4.set_zlabel(\"Calorías (cal)\")\n",
        "\n",
        "fig2.show()"
      ],
      "execution_count": null,
      "outputs": [
        {
          "output_type": "display_data",
          "data": {
            "image/png": "[encoded data removed]",
            "text/plain": [
              "<Figure size 960x480 with 2 Axes>"
            ]
          },
          "metadata": {
            "needs_background": "light"
          }
        }
      ]
    },
    {
      "cell_type": "markdown",
      "metadata": {
        "id": "BNxReUmmPUuu"
      },
      "source": [
        "Estas otras dos gráficas son de Proteínas y Lípidos vs Calorías, y Proteínas y Sodio vs Calorías."
      ]
    },
    {
      "cell_type": "markdown",
      "metadata": {
        "id": "mCe-dN_8GOig"
      },
      "source": [
        "### Determinar si el modelo es significativo"
      ]
    },
    {
      "cell_type": "markdown",
      "metadata": {
        "id": "GhbTN2ve0sMm"
      },
      "source": [
        "Encontrar F para evaluar qué tan significativo es el modelo en general"
      ]
    },
    {
      "cell_type": "code",
      "metadata": {
        "colab": {
          "base_uri": "https://localhost:8080/"
        },
        "id": "kteZvlAEIunh",
        "outputId": "48f51796-0727-4594-baf5-db01d7c00f58"
      },
      "source": [
        "from sklearn import datasets, linear_model\n",
        "from sklearn.linear_model import LinearRegression\n",
        "import statsmodels.api as sm\n",
        "from scipy import stats\n",
        "\n",
        "X2 = sm.add_constant(X)\n",
        "est = sm.OLS(y, X2)\n",
        "est2 = est.fit()\n",
        "print(est2.summary())"
      ],
      "execution_count": null,
      "outputs": [
        {
          "output_type": "stream",
          "name": "stderr",
          "text": [
            "/usr/local/lib/python3.7/dist-packages/statsmodels/tools/_testing.py:19: FutureWarning: pandas.util.testing is deprecated. Use the functions in the public API at pandas.testing instead.\n",
            "  import pandas.util.testing as tm\n"
          ]
        },
        {
          "output_type": "stream",
          "name": "stdout",
          "text": [
            "                            OLS Regression Results                            \n",
            "==============================================================================\n",
            "Dep. Variable:         Calorias (cal)   R-squared:                       0.990\n",
            "Model:                            OLS   Adj. R-squared:                  0.990\n",
            "Method:                 Least Squares   F-statistic:                 1.469e+05\n",
            "Date:                Mon, 29 Nov 2021   Prob (F-statistic):               0.00\n",
            "Time:                        23:02:22   Log-Likelihood:                -25922.\n",
            "No. Observations:                6218   AIC:                         5.185e+04\n",
            "Df Residuals:                    6213   BIC:                         5.189e+04\n",
            "Df Model:                           4                                         \n",
            "Covariance Type:            nonrobust                                         \n",
            "=====================================================================================\n",
            "                        coef    std err          t      P>|t|      [0.025      0.975]\n",
            "-------------------------------------------------------------------------------------\n",
            "const                 3.7500      0.384      9.778      0.000       2.998       4.502\n",
            "Carbohidratos (g)     3.9050      0.009    421.593      0.000       3.887       3.923\n",
            "Lípidos (g)           8.7810      0.014    630.444      0.000       8.754       8.808\n",
            "Proteína (g)          3.9692      0.020    197.406      0.000       3.930       4.009\n",
            "Sodio (mg)         2.443e-05      0.000      0.172      0.864      -0.000       0.000\n",
            "==============================================================================\n",
            "Omnibus:                    13497.449   Durbin-Watson:                   1.111\n",
            "Prob(Omnibus):                  0.000   Jarque-Bera (JB):        124514764.869\n",
            "Skew:                          19.125   Prob(JB):                         0.00\n",
            "Kurtosis:                     695.195   Cond. No.                     2.76e+03\n",
            "==============================================================================\n",
            "\n",
            "Warnings:\n",
            "[1] Standard Errors assume that the covariance matrix of the errors is correctly specified.\n",
            "[2] The condition number is large, 2.76e+03. This might indicate that there are\n",
            "strong multicollinearity or other numerical problems.\n"
          ]
        }
      ]
    },
    {
      "cell_type": "markdown",
      "metadata": {
        "id": "1WgBD3ukGcIX"
      },
      "source": [
        "La F-test muestra que el modelo es significativo porque el valor crítico de f es muy pequeño. Lo mismo pudimos apreciar cuando el modelo se creó usando las herramientas de Excel"
      ]
    },
    {
      "cell_type": "markdown",
      "metadata": {
        "id": "A9o6iKEBGoaN"
      },
      "source": [
        "Recordemos que los p-valores de cada variable nos dicen si las variables son significativas para el modelo o no. En este caso, es otra prueba que nos afirma que el modelo creado puede predecir, con un error bajo, las calorías de un alimento. Sin embargo, el p-valor del sodio así como su coeficiente nos indican que no es una variable significativa para el modelo de RL. Con esto en mente, se hará una segunda iteración sin contar al sodio como variable predictora."
      ]
    },
    {
      "cell_type": "code",
      "metadata": {
        "colab": {
          "base_uri": "https://localhost:8080/",
          "height": 423
        },
        "id": "uUCML5hI3Hn_",
        "outputId": "efd7a195-b666-45b5-ae36-b6f69a93acfa"
      },
      "source": [
        "new_X = X.drop([\"Sodio (mg)\"], axis=1)\n",
        "new_X"
      ],
      "execution_count": null,
      "outputs": [
        {
          "output_type": "execute_result",
          "data": {
            "text/html": [
              "<div>\n",
              "<style scoped>\n",
              "    .dataframe tbody tr th:only-of-type {\n",
              "        vertical-align: middle;\n",
              "    }\n",
              "\n",
              "    .dataframe tbody tr th {\n",
              "        vertical-align: top;\n",
              "    }\n",
              "\n",
              "    .dataframe thead th {\n",
              "        text-align: right;\n",
              "    }\n",
              "</style>\n",
              "<table border=\"1\" class=\"dataframe\">\n",
              "  <thead>\n",
              "    <tr style=\"text-align: right;\">\n",
              "      <th></th>\n",
              "      <th>Carbohidratos (g)</th>\n",
              "      <th>Lípidos (g)</th>\n",
              "      <th>Proteína (g)</th>\n",
              "    </tr>\n",
              "  </thead>\n",
              "  <tbody>\n",
              "    <tr>\n",
              "      <th>1</th>\n",
              "      <td>0.74</td>\n",
              "      <td>11.76</td>\n",
              "      <td>10.84</td>\n",
              "    </tr>\n",
              "    <tr>\n",
              "      <th>2</th>\n",
              "      <td>27.00</td>\n",
              "      <td>0.40</td>\n",
              "      <td>1.30</td>\n",
              "    </tr>\n",
              "    <tr>\n",
              "      <th>3</th>\n",
              "      <td>13.60</td>\n",
              "      <td>2.00</td>\n",
              "      <td>1.90</td>\n",
              "    </tr>\n",
              "    <tr>\n",
              "      <th>4</th>\n",
              "      <td>41.90</td>\n",
              "      <td>6.70</td>\n",
              "      <td>16.10</td>\n",
              "    </tr>\n",
              "    <tr>\n",
              "      <th>5</th>\n",
              "      <td>2.00</td>\n",
              "      <td>18.60</td>\n",
              "      <td>41.60</td>\n",
              "    </tr>\n",
              "    <tr>\n",
              "      <th>...</th>\n",
              "      <td>...</td>\n",
              "      <td>...</td>\n",
              "      <td>...</td>\n",
              "    </tr>\n",
              "    <tr>\n",
              "      <th>13A11950</th>\n",
              "      <td>2.30</td>\n",
              "      <td>7.60</td>\n",
              "      <td>1.20</td>\n",
              "    </tr>\n",
              "    <tr>\n",
              "      <th>13A11949</th>\n",
              "      <td>2.30</td>\n",
              "      <td>7.60</td>\n",
              "      <td>1.20</td>\n",
              "    </tr>\n",
              "    <tr>\n",
              "      <th>13A12055</th>\n",
              "      <td>2.30</td>\n",
              "      <td>7.40</td>\n",
              "      <td>1.20</td>\n",
              "    </tr>\n",
              "    <tr>\n",
              "      <th>13A11848</th>\n",
              "      <td>2.00</td>\n",
              "      <td>0.40</td>\n",
              "      <td>1.10</td>\n",
              "    </tr>\n",
              "    <tr>\n",
              "      <th>13A12582</th>\n",
              "      <td>1.90</td>\n",
              "      <td>6.30</td>\n",
              "      <td>1.00</td>\n",
              "    </tr>\n",
              "  </tbody>\n",
              "</table>\n",
              "<p>6218 rows × 3 columns</p>\n",
              "</div>"
            ],
            "text/plain": [
              "          Carbohidratos (g)  Lípidos (g)  Proteína (g)\n",
              "1                      0.74        11.76         10.84\n",
              "2                     27.00         0.40          1.30\n",
              "3                     13.60         2.00          1.90\n",
              "4                     41.90         6.70         16.10\n",
              "5                      2.00        18.60         41.60\n",
              "...                     ...          ...           ...\n",
              "13A11950               2.30         7.60          1.20\n",
              "13A11949               2.30         7.60          1.20\n",
              "13A12055               2.30         7.40          1.20\n",
              "13A11848               2.00         0.40          1.10\n",
              "13A12582               1.90         6.30          1.00\n",
              "\n",
              "[6218 rows x 3 columns]"
            ]
          },
          "metadata": {},
          "execution_count": 29
        }
      ]
    },
    {
      "cell_type": "code",
      "metadata": {
        "colab": {
          "base_uri": "https://localhost:8080/"
        },
        "id": "fBfErt763Yrg",
        "outputId": "fbfd1896-7998-4ae5-dfc9-84faf76e94d7"
      },
      "source": [
        "x_train2, x_test2, y_train2, y_test2 = train_test_split(new_X, y, \n",
        "                                                        test_size = 0.2, \n",
        "                                                        random_state = 42)\n",
        "LR2 = LinearRegression()\n",
        "LR2.fit(x_train2, y_train2)\n",
        "y_prediction_lr2 = LR2.predict(x_test2)\n",
        "\n",
        "X2 = sm.add_constant(new_X)\n",
        "est = sm.OLS(y, X2)\n",
        "est2 = est.fit()\n",
        "print(est2.summary())"
      ],
      "execution_count": null,
      "outputs": [
        {
          "output_type": "stream",
          "name": "stdout",
          "text": [
            "                            OLS Regression Results                            \n",
            "==============================================================================\n",
            "Dep. Variable:         Calorias (cal)   R-squared:                       0.990\n",
            "Model:                            OLS   Adj. R-squared:                  0.990\n",
            "Method:                 Least Squares   F-statistic:                 1.958e+05\n",
            "Date:                Mon, 29 Nov 2021   Prob (F-statistic):               0.00\n",
            "Time:                        23:02:22   Log-Likelihood:                -25922.\n",
            "No. Observations:                6218   AIC:                         5.185e+04\n",
            "Df Residuals:                    6214   BIC:                         5.188e+04\n",
            "Df Model:                           3                                         \n",
            "Covariance Type:            nonrobust                                         \n",
            "=====================================================================================\n",
            "                        coef    std err          t      P>|t|      [0.025      0.975]\n",
            "-------------------------------------------------------------------------------------\n",
            "const                 3.7563      0.382      9.842      0.000       3.008       4.505\n",
            "Carbohidratos (g)     3.9050      0.009    421.808      0.000       3.887       3.923\n",
            "Lípidos (g)           8.7810      0.014    630.499      0.000       8.754       8.808\n",
            "Proteína (g)          3.9692      0.020    197.425      0.000       3.930       4.009\n",
            "==============================================================================\n",
            "Omnibus:                    13497.094   Durbin-Watson:                   1.111\n",
            "Prob(Omnibus):                  0.000   Jarque-Bera (JB):        124501170.033\n",
            "Skew:                          19.124   Prob(JB):                         0.00\n",
            "Kurtosis:                     695.158   Cond. No.                         58.4\n",
            "==============================================================================\n",
            "\n",
            "Warnings:\n",
            "[1] Standard Errors assume that the covariance matrix of the errors is correctly specified.\n"
          ]
        }
      ]
    },
    {
      "cell_type": "code",
      "metadata": {
        "colab": {
          "base_uri": "https://localhost:8080/"
        },
        "id": "tiiAkAIl541I",
        "outputId": "81ea81b9-1fa3-474c-c765-9e913298f5b1"
      },
      "source": [
        "c_carbs2, c_lips2, c_prots2 = LR2.coef_\n",
        "print(f\"\"\"\n",
        "Los coeficientes del modelo son:\n",
        "Carbohidratos: {c_carbs2:.4f}\n",
        "Lípidos: {c_lips2:.4f}\n",
        "Proteínas: {c_prots2:.4f}\"\"\")"
      ],
      "execution_count": null,
      "outputs": [
        {
          "output_type": "stream",
          "name": "stdout",
          "text": [
            "\n",
            "Los coeficientes del modelo son:\n",
            "Carbohidratos: 3.9028\n",
            "Lípidos: 8.7869\n",
            "Proteínas: 3.9670\n"
          ]
        }
      ]
    },
    {
      "cell_type": "markdown",
      "metadata": {
        "id": "tCt8hHQ75A_2"
      },
      "source": [
        "Notamos que los coeficientes de las 3 variables predictoras no cambiaron. El valor de F sí cambió, y sigue confirmando que el modelo es significativo. También, la segunda *Warning* que advertía sobre una posible multicolinealidad desapareció. Con esto concluimos el modelo de RL para predecir el número de calorías de un alimento según su cantidad de carbohidratos, lípidos y proteínas en gramos."
      ]
    },
    {
      "cell_type": "markdown",
      "metadata": {
        "id": "vC79d1kEqOto"
      },
      "source": [
        "### 4 Métricas"
      ]
    },
    {
      "cell_type": "markdown",
      "metadata": {
        "id": "6d49iohmqXK8"
      },
      "source": [
        "Además de `r2_score` y `mean_squeared_error`, otras métricas que usaré para evaluar el desempeño de los modelos son `max_error` y `median_absolut_error`"
      ]
    },
    {
      "cell_type": "code",
      "metadata": {
        "colab": {
          "base_uri": "https://localhost:8080/"
        },
        "id": "MB021nAoqN9l",
        "outputId": "62afa07b-28f2-44d1-94cd-b9a62e11f78a"
      },
      "source": [
        "from sklearn.metrics import max_error\n",
        "from sklearn.metrics import median_absolute_error\n",
        "\n",
        "score_lr2 = r2_score(y_test2, y_prediction_lr2)\n",
        "m_sqrd_e_lr2 = mean_squared_error(y_test2, y_prediction_lr2)\n",
        "m_error_lr2 = max_error(y_test2, y_prediction_lr2)\n",
        "m_abs_e_lr2 = median_absolute_error(y_test2, y_prediction_lr2)\n",
        "\n",
        "print(f\"\"\"\n",
        "El r2 score de la RL es: {score_lr2}\n",
        "El mean squared error de la RL es: {m_sqrd_e_lr2}\n",
        "y el root mean squared error es: {np.sqrt(m_sqrd_e_lr2)}\n",
        "Error máximo de la RL: {m_error_lr2}\n",
        "El median absolut error de la RL es: {m_abs_e_lr2}\n",
        "\"\"\")"
      ],
      "execution_count": null,
      "outputs": [
        {
          "output_type": "stream",
          "name": "stdout",
          "text": [
            "\n",
            "El r2 score de la RL es: 0.9910223812890226\n",
            "El mean squared error de la RL es: 201.06861379160569\n",
            "y el root mean squared error es: 14.179866494138993\n",
            "Error máximo de la RL: 210.25170504883678\n",
            "El median absolut error de la RL es: 2.2921638719206996\n",
            "\n"
          ]
        }
      ]
    },
    {
      "cell_type": "markdown",
      "metadata": {
        "id": "EsT94swF-UfR"
      },
      "source": [
        "## XGBoost regresión"
      ]
    },
    {
      "cell_type": "code",
      "metadata": {
        "id": "96IQ1Cr0-flQ"
      },
      "source": [
        "# Librería necesaria\n",
        "from sklearn.ensemble import GradientBoostingRegressor"
      ],
      "execution_count": null,
      "outputs": []
    },
    {
      "cell_type": "code",
      "metadata": {
        "id": "duPeqQla-pjF"
      },
      "source": [
        "# Utilizamos los mismos daots que la última iteración de regresión lineal\n",
        "xgbr = GradientBoostingRegressor(n_estimators=100, \n",
        "                                 learning_rate=0.1, \n",
        "                                 max_depth=1, \n",
        "                                 random_state=0, \n",
        "                                 loss='squared_error').fit(x_train2, y_train2)"
      ],
      "execution_count": null,
      "outputs": []
    },
    {
      "cell_type": "code",
      "metadata": {
        "colab": {
          "base_uri": "https://localhost:8080/"
        },
        "id": "e7QHZ1dv-2bX",
        "outputId": "a87e65a6-7e8a-4a5d-fcf8-0eb504377ec2"
      },
      "source": [
        "y_prediction_xgb = xgbr.predict(x_test2)\n",
        "y_prediction_xgb"
      ],
      "execution_count": null,
      "outputs": [
        {
          "output_type": "execute_result",
          "data": {
            "text/plain": [
              "array([179.36303103, 210.407755  , 332.96986303, ..., 405.53093395,\n",
              "       115.1064992 , 333.67338974])"
            ]
          },
          "metadata": {},
          "execution_count": 35
        }
      ]
    },
    {
      "cell_type": "markdown",
      "metadata": {
        "id": "sQia9xPpitnQ"
      },
      "source": [
        "### Métricas XGBR"
      ]
    },
    {
      "cell_type": "code",
      "metadata": {
        "colab": {
          "base_uri": "https://localhost:8080/"
        },
        "id": "-8qW0NJG-_lo",
        "outputId": "797a2c95-5fb3-4fda-9302-77fe3ad9008f"
      },
      "source": [
        "score_xgb = r2_score(y_test2, y_prediction_xgb)\n",
        "m_sqrd_e_xgb = mean_squared_error(y_test2, y_prediction_xgb)\n",
        "m_error_xgb = max_error(y_test2, y_prediction_xgb)\n",
        "m_abs_e_xgb = median_absolute_error(y_test2, y_prediction_xgb)\n",
        "\n",
        "print(f\"\"\"\n",
        "El r2 score de la XGBoost R es: {score_xgb}\n",
        "El mean squared error de la XGBoost R es: {m_sqrd_e_xgb}\n",
        "y el root mean squared de la XGBoost R es: {np.sqrt(m_sqrd_e_xgb)}\n",
        "Error máximo de la XGBoost R es: {m_error_xgb}\n",
        "El median absolut error de la XGBoost R es: {m_abs_e_xgb}\n",
        "\"\"\")"
      ],
      "execution_count": null,
      "outputs": [
        {
          "output_type": "stream",
          "name": "stdout",
          "text": [
            "\n",
            "El r2 score de la XGBoost R es: 0.9604697953390003\n",
            "El mean squared error de la XGBoost R es: 885.3442889445714\n",
            "y el root mean squared de la XGBoost R es: 29.75473557174675\n",
            "Error máximo de la XGBoost R es: 269.26649337023946\n",
            "El median absolut error de la XGBoost R es: 15.538173922544928\n",
            "\n"
          ]
        }
      ]
    },
    {
      "cell_type": "markdown",
      "metadata": {
        "id": "SSu5vSbOACBP"
      },
      "source": [
        "## Linear Model Lasso"
      ]
    },
    {
      "cell_type": "code",
      "metadata": {
        "id": "grc6H8qUAFOP"
      },
      "source": [
        "# Librería necesaria\n",
        "from sklearn.linear_model import Lasso"
      ],
      "execution_count": null,
      "outputs": []
    },
    {
      "cell_type": "code",
      "metadata": {
        "colab": {
          "base_uri": "https://localhost:8080/"
        },
        "id": "5TOp4F-zAb1T",
        "outputId": "cb62753c-5858-4e24-8967-f02a4d7938ae"
      },
      "source": [
        "# Utilizamos los mismos daots que la última iteración de regresión lineal\n",
        "lsso = Lasso(alpha=0.1)\n",
        "lsso.fit(x_train2, y_train2)\n",
        "y_prediction_ls = lsso.predict(x_test2)\n",
        "y_prediction_ls"
      ],
      "execution_count": null,
      "outputs": [
        {
          "output_type": "execute_result",
          "data": {
            "text/plain": [
              "array([177.78945187, 245.5103052 , 323.31931302, ..., 430.92633327,\n",
              "       115.35537676, 349.99878311])"
            ]
          },
          "metadata": {},
          "execution_count": 38
        }
      ]
    },
    {
      "cell_type": "markdown",
      "metadata": {
        "id": "BnJ8BlVIE6zy"
      },
      "source": [
        "Este modelo tiene coeficientes como el de RL"
      ]
    },
    {
      "cell_type": "code",
      "metadata": {
        "colab": {
          "base_uri": "https://localhost:8080/"
        },
        "id": "IcmsGiIjE98Z",
        "outputId": "628157f2-1e29-4dd9-a09e-fc6296aa0ac9"
      },
      "source": [
        "c_carbs_lsso, c_lips_lsso, c_prots_lsso = lsso.coef_\n",
        "print(f\"\"\"\n",
        "Los coeficientes del modelo son:\n",
        "Carbohidratos: {c_carbs_lsso:.4f}\n",
        "Lípidos: {c_lips_lsso:.4f}\n",
        "Proteínas: {c_prots_lsso:.4f}\"\"\")"
      ],
      "execution_count": null,
      "outputs": [
        {
          "output_type": "stream",
          "name": "stdout",
          "text": [
            "\n",
            "Los coeficientes del modelo son:\n",
            "Carbohidratos: 3.9025\n",
            "Lípidos: 8.7865\n",
            "Proteínas: 3.9660\n"
          ]
        }
      ]
    },
    {
      "cell_type": "markdown",
      "metadata": {
        "id": "XW-iz87oi0OJ"
      },
      "source": [
        "### Métricas Lasso"
      ]
    },
    {
      "cell_type": "code",
      "metadata": {
        "colab": {
          "base_uri": "https://localhost:8080/"
        },
        "id": "8UADq3qnBIFO",
        "outputId": "58ff8a12-9d63-4f68-87a0-991bd3f5a656"
      },
      "source": [
        "score_lsso = r2_score(y_test2, y_prediction_ls)\n",
        "m_sqrd_e_lsso = mean_squared_error(y_test2, y_prediction_ls)\n",
        "m_error_lsso = max_error(y_test2, y_prediction_ls)\n",
        "m_abs_e_lsso = median_absolute_error(y_test2, y_prediction_ls)\n",
        "\n",
        "print(f\"\"\"\n",
        "El r2 score del modelo Lasso es: {score_lsso}\n",
        "El mean squared error del modelo Lasso es: {m_sqrd_e_lsso}\n",
        "y el root mean squared del modelo Lasso es: {np.sqrt(m_sqrd_e_lsso)}\n",
        "Error máximo del modelo Lasso es: {m_error_lsso}\n",
        "El median absolut error del modelo Lasso es: {m_abs_e_lsso}\n",
        "\"\"\")"
      ],
      "execution_count": null,
      "outputs": [
        {
          "output_type": "stream",
          "name": "stdout",
          "text": [
            "\n",
            "El r2 score del modelo Lasso es: 0.991022439116758\n",
            "El mean squared error del modelo Lasso es: 201.06731864386612\n",
            "y el root mean squared del modelo Lasso es: 14.179820825520544\n",
            "Error máximo del modelo Lasso es: 210.23007440876296\n",
            "El median absolut error del modelo Lasso es: 2.2989922433004892\n",
            "\n"
          ]
        }
      ]
    },
    {
      "cell_type": "markdown",
      "metadata": {
        "id": "vTfVb4678YiN"
      },
      "source": [
        "## Modelo de regresión de una Neural Network"
      ]
    },
    {
      "cell_type": "code",
      "metadata": {
        "id": "r39QA9fU9pzL"
      },
      "source": [
        "# Librerías necesarias\n",
        "from sklearn.neural_network import MLPRegressor\n",
        "from sklearn.datasets import make_regression"
      ],
      "execution_count": null,
      "outputs": []
    },
    {
      "cell_type": "code",
      "metadata": {
        "colab": {
          "base_uri": "https://localhost:8080/"
        },
        "id": "ldM6RjJD9t8h",
        "outputId": "53b9e7d1-d47b-4679-dca6-b9374de9d797"
      },
      "source": [
        "# Utilizamos los mismos datos que la última iteración de regresión lineal\n",
        "regr = MLPRegressor(random_state=1, max_iter=500).fit(x_train2, y_train2)\n",
        "y_prediction_nn = regr.predict(x_test2)\n",
        "y_prediction_nn"
      ],
      "execution_count": null,
      "outputs": [
        {
          "output_type": "execute_result",
          "data": {
            "text/plain": [
              "array([176.86535435, 244.34344728, 324.03030814, ..., 430.18374404,\n",
              "       114.1510882 , 351.37992478])"
            ]
          },
          "metadata": {},
          "execution_count": 42
        }
      ]
    },
    {
      "cell_type": "markdown",
      "metadata": {
        "id": "WShqqVGTjt--"
      },
      "source": [
        "### Métricas Neural Network"
      ]
    },
    {
      "cell_type": "code",
      "metadata": {
        "id": "8SHz7KYK-VPK"
      },
      "source": [
        "score_nn = r2_score(y_test2, y_prediction_nn)\n",
        "m_sqrd_e_nn = mean_squared_error(y_test2, y_prediction_nn)\n",
        "m_error_nn = max_error(y_test2, y_prediction_nn)\n",
        "m_abs_e_nn = median_absolute_error(y_test2, y_prediction_nn)"
      ],
      "execution_count": null,
      "outputs": []
    },
    {
      "cell_type": "code",
      "metadata": {
        "colab": {
          "base_uri": "https://localhost:8080/"
        },
        "id": "Ea-NaKea-3cU",
        "outputId": "af066438-25a9-4016-cd4a-a0baad83de5e"
      },
      "source": [
        "print(f\"\"\"\n",
        "El r2 score de la regresión con Neural Network es: {score_nn}\n",
        "El mean squared error de la regresión con Neural Network es: {m_sqrd_e_nn}\n",
        "y el root mean squared de la regresión con Neural Network es: {np.sqrt(m_sqrd_e_nn)}\n",
        "Error máximo de la regresión con Neural Network es: {m_error_nn}\n",
        "El median absolut error de la regresión con Neural Network es: {m_abs_e_nn}\n",
        "\"\"\")"
      ],
      "execution_count": null,
      "outputs": [
        {
          "output_type": "stream",
          "name": "stdout",
          "text": [
            "\n",
            "El r2 score de la regresión con Neural Network es: 0.9917535135943971\n",
            "El mean squared error de la regresión con Neural Network es: 184.6936970266352\n",
            "y el root mean squared de la regresión con Neural Network es: 13.590205922892972\n",
            "Error máximo de la regresión con Neural Network es: 207.4957633942978\n",
            "El median absolut error de la regresión con Neural Network es: 1.3609290199927813\n",
            "\n"
          ]
        }
      ]
    }
  ]
}